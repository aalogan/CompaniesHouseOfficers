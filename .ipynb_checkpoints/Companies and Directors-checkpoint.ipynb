{
 "cells": [
  {
   "cell_type": "code",
   "execution_count": 1,
   "metadata": {
    "ExecuteTime": {
     "end_time": "2021-08-19T14:37:53.160628Z",
     "start_time": "2021-08-19T14:37:49.044453Z"
    }
   },
   "outputs": [],
   "source": [
    "import pandas as pd\n",
    "import numpy as np\n",
    "import datetime\n",
    "import matplotlib.pyplot as plt\n",
    "from bs4 import BeautifulSoup\n",
    "import requests\n",
    "import re\n",
    "from tqdm import tqdm\n",
    "from random import randint\n",
    "from time import sleep\n",
    "import time\n",
    "import random\n",
    "from matplotlib import cm\n",
    "import seaborn as sns\n",
    "import networkx as nx"
   ]
  },
  {
   "cell_type": "markdown",
   "metadata": {},
   "source": [
    "To do:\n",
    "1) Example graphs (n>9, complete and largest components)\n",
    "2) connectedness measures (number of connections - node degrees, clustering coefficients, Betweenness centrality)\n",
    "3) Conclusions?\n",
    "4) Percentage female for different PLC numbers of officers\n",
    "5) Write-up/Readme/Git - motivations, success measures, areas for further investigation (both network and percentage)."
   ]
  },
  {
   "cell_type": "code",
   "execution_count": 3,
   "metadata": {
    "ExecuteTime": {
     "end_time": "2021-03-18T11:23:06.783613Z",
     "start_time": "2021-03-18T11:22:09.747719Z"
    }
   },
   "outputs": [
    {
     "name": "stderr",
     "output_type": "stream",
     "text": [
      "C:\\Users\\andre\\anaconda3\\lib\\site-packages\\IPython\\core\\interactiveshell.py:3146: DtypeWarning: Columns (41,42,43,44,45,46,47,48,49,50,51,52) have mixed types.Specify dtype option on import or set low_memory=False.\n",
      "  has_raised = await self.run_ast_nodes(code_ast.body, cell_name,\n"
     ]
    },
    {
     "name": "stdout",
     "output_type": "stream",
     "text": [
      "<class 'pandas.core.frame.DataFrame'>\n",
      "RangeIndex: 4905585 entries, 0 to 4905584\n",
      "Data columns (total 55 columns):\n",
      " #   Column                              Dtype  \n",
      "---  ------                              -----  \n",
      " 0   CompanyName                         object \n",
      " 1    CompanyNumber                      object \n",
      " 2   RegAddress.CareOf                   object \n",
      " 3   RegAddress.POBox                    object \n",
      " 4   RegAddress.AddressLine1             object \n",
      " 5    RegAddress.AddressLine2            object \n",
      " 6   RegAddress.PostTown                 object \n",
      " 7   RegAddress.County                   object \n",
      " 8   RegAddress.Country                  object \n",
      " 9   RegAddress.PostCode                 object \n",
      " 10  CompanyCategory                     object \n",
      " 11  CompanyStatus                       object \n",
      " 12  CountryOfOrigin                     object \n",
      " 13  DissolutionDate                     float64\n",
      " 14  IncorporationDate                   object \n",
      " 15  Accounts.AccountRefDay              float64\n",
      " 16  Accounts.AccountRefMonth            float64\n",
      " 17  Accounts.NextDueDate                object \n",
      " 18  Accounts.LastMadeUpDate             object \n",
      " 19  Accounts.AccountCategory            object \n",
      " 20  Returns.NextDueDate                 object \n",
      " 21  Returns.LastMadeUpDate              object \n",
      " 22  Mortgages.NumMortCharges            int64  \n",
      " 23  Mortgages.NumMortOutstanding        int64  \n",
      " 24  Mortgages.NumMortPartSatisfied      int64  \n",
      " 25  Mortgages.NumMortSatisfied          int64  \n",
      " 26  SICCode.SicText_1                   object \n",
      " 27  SICCode.SicText_2                   object \n",
      " 28  SICCode.SicText_3                   object \n",
      " 29  SICCode.SicText_4                   object \n",
      " 30  LimitedPartnerships.NumGenPartners  int64  \n",
      " 31  LimitedPartnerships.NumLimPartners  int64  \n",
      " 32  URI                                 object \n",
      " 33  PreviousName_1.CONDATE              object \n",
      " 34   PreviousName_1.CompanyName         object \n",
      " 35   PreviousName_2.CONDATE             object \n",
      " 36   PreviousName_2.CompanyName         object \n",
      " 37  PreviousName_3.CONDATE              object \n",
      " 38   PreviousName_3.CompanyName         object \n",
      " 39  PreviousName_4.CONDATE              object \n",
      " 40   PreviousName_4.CompanyName         object \n",
      " 41  PreviousName_5.CONDATE              object \n",
      " 42   PreviousName_5.CompanyName         object \n",
      " 43  PreviousName_6.CONDATE              object \n",
      " 44   PreviousName_6.CompanyName         object \n",
      " 45  PreviousName_7.CONDATE              object \n",
      " 46   PreviousName_7.CompanyName         object \n",
      " 47  PreviousName_8.CONDATE              object \n",
      " 48   PreviousName_8.CompanyName         object \n",
      " 49  PreviousName_9.CONDATE              object \n",
      " 50   PreviousName_9.CompanyName         object \n",
      " 51  PreviousName_10.CONDATE             object \n",
      " 52   PreviousName_10.CompanyName        object \n",
      " 53  ConfStmtNextDueDate                 object \n",
      " 54   ConfStmtLastMadeUpDate             object \n",
      "dtypes: float64(3), int64(6), object(46)\n",
      "memory usage: 2.0+ GB\n"
     ]
    }
   ],
   "source": [
    "companies = pd.read_csv('BasicCompanyDataAsOneFile-2021-03-11.csv')\n",
    "companies.info()"
   ]
  },
  {
   "cell_type": "code",
   "execution_count": 8,
   "metadata": {
    "ExecuteTime": {
     "end_time": "2021-03-18T11:33:14.222971Z",
     "start_time": "2021-03-18T11:33:14.205977Z"
    }
   },
   "outputs": [
    {
     "data": {
      "text/plain": [
       "CompanyName                                                                   ! LIMITED\n",
       " CompanyNumber                                                                 12778855\n",
       "RegAddress.CareOf                                                                   NaN\n",
       "RegAddress.POBox                                                                    NaN\n",
       "RegAddress.AddressLine1                                   UNIT 3 NEWTON BUSINESS CENTRE\n",
       " RegAddress.AddressLine2                                           NEWTON CHAMBERS ROAD\n",
       "RegAddress.PostTown                                                           SHEFFIELD\n",
       "RegAddress.County                                                                   NaN\n",
       "RegAddress.Country                                                       UNITED KINGDOM\n",
       "RegAddress.PostCode                                                             S35 2PH\n",
       "CompanyCategory                                                 Private Limited Company\n",
       "CompanyStatus                                                                    Active\n",
       "CountryOfOrigin                                                          United Kingdom\n",
       "DissolutionDate                                                                     NaN\n",
       "IncorporationDate                                                            29/07/2020\n",
       "Accounts.AccountRefDay                                                               31\n",
       "Accounts.AccountRefMonth                                                              7\n",
       "Accounts.NextDueDate                                                         29/04/2022\n",
       "Accounts.LastMadeUpDate                                                             NaN\n",
       "Accounts.AccountCategory                                              NO ACCOUNTS FILED\n",
       "Returns.NextDueDate                                                          26/08/2021\n",
       "Returns.LastMadeUpDate                                                              NaN\n",
       "Mortgages.NumMortCharges                                                              0\n",
       "Mortgages.NumMortOutstanding                                                          0\n",
       "Mortgages.NumMortPartSatisfied                                                        0\n",
       "Mortgages.NumMortSatisfied                                                            0\n",
       "SICCode.SicText_1                     78300 - Human resources provision and manageme...\n",
       "SICCode.SicText_2                                                                   NaN\n",
       "SICCode.SicText_3                                                                   NaN\n",
       "SICCode.SicText_4                                                                   NaN\n",
       "LimitedPartnerships.NumGenPartners                                                    0\n",
       "LimitedPartnerships.NumLimPartners                                                    0\n",
       "URI                                     http://business.data.gov.uk/id/company/12778855\n",
       "PreviousName_1.CONDATE                                                              NaN\n",
       " PreviousName_1.CompanyName                                                         NaN\n",
       " PreviousName_2.CONDATE                                                             NaN\n",
       " PreviousName_2.CompanyName                                                         NaN\n",
       "PreviousName_3.CONDATE                                                              NaN\n",
       " PreviousName_3.CompanyName                                                         NaN\n",
       "PreviousName_4.CONDATE                                                              NaN\n",
       " PreviousName_4.CompanyName                                                         NaN\n",
       "PreviousName_5.CONDATE                                                              NaN\n",
       " PreviousName_5.CompanyName                                                         NaN\n",
       "PreviousName_6.CONDATE                                                              NaN\n",
       " PreviousName_6.CompanyName                                                         NaN\n",
       "PreviousName_7.CONDATE                                                              NaN\n",
       " PreviousName_7.CompanyName                                                         NaN\n",
       "PreviousName_8.CONDATE                                                              NaN\n",
       " PreviousName_8.CompanyName                                                         NaN\n",
       "PreviousName_9.CONDATE                                                              NaN\n",
       " PreviousName_9.CompanyName                                                         NaN\n",
       "PreviousName_10.CONDATE                                                             NaN\n",
       " PreviousName_10.CompanyName                                                        NaN\n",
       "ConfStmtNextDueDate                                                          11/08/2021\n",
       " ConfStmtLastMadeUpDate                                                             NaN\n",
       "Name: 0, dtype: object"
      ]
     },
     "execution_count": 8,
     "metadata": {},
     "output_type": "execute_result"
    }
   ],
   "source": [
    "companies.iloc[0,:]"
   ]
  },
  {
   "cell_type": "code",
   "execution_count": 13,
   "metadata": {
    "ExecuteTime": {
     "end_time": "2021-03-18T12:08:17.320699Z",
     "start_time": "2021-03-18T12:08:17.283742Z"
    }
   },
   "outputs": [
    {
     "data": {
      "text/html": [
       "<div>\n",
       "<style scoped>\n",
       "    .dataframe tbody tr th:only-of-type {\n",
       "        vertical-align: middle;\n",
       "    }\n",
       "\n",
       "    .dataframe tbody tr th {\n",
       "        vertical-align: top;\n",
       "    }\n",
       "\n",
       "    .dataframe thead th {\n",
       "        text-align: right;\n",
       "    }\n",
       "</style>\n",
       "<table border=\"1\" class=\"dataframe\">\n",
       "  <thead>\n",
       "    <tr style=\"text-align: right;\">\n",
       "      <th></th>\n",
       "      <th>CompanyName</th>\n",
       "      <th>CompanyNumber</th>\n",
       "      <th>RegAddress.CareOf</th>\n",
       "      <th>RegAddress.POBox</th>\n",
       "      <th>RegAddress.AddressLine1</th>\n",
       "      <th>RegAddress.AddressLine2</th>\n",
       "      <th>RegAddress.PostTown</th>\n",
       "      <th>RegAddress.County</th>\n",
       "      <th>RegAddress.Country</th>\n",
       "      <th>RegAddress.PostCode</th>\n",
       "      <th>...</th>\n",
       "      <th>PreviousName_7.CONDATE</th>\n",
       "      <th>PreviousName_7.CompanyName</th>\n",
       "      <th>PreviousName_8.CONDATE</th>\n",
       "      <th>PreviousName_8.CompanyName</th>\n",
       "      <th>PreviousName_9.CONDATE</th>\n",
       "      <th>PreviousName_9.CompanyName</th>\n",
       "      <th>PreviousName_10.CONDATE</th>\n",
       "      <th>PreviousName_10.CompanyName</th>\n",
       "      <th>ConfStmtNextDueDate</th>\n",
       "      <th>ConfStmtLastMadeUpDate</th>\n",
       "    </tr>\n",
       "  </thead>\n",
       "  <tbody>\n",
       "    <tr>\n",
       "      <th>0</th>\n",
       "      <td>! LIMITED</td>\n",
       "      <td>12778855</td>\n",
       "      <td>NaN</td>\n",
       "      <td>NaN</td>\n",
       "      <td>UNIT 3 NEWTON BUSINESS CENTRE</td>\n",
       "      <td>NEWTON CHAMBERS ROAD</td>\n",
       "      <td>SHEFFIELD</td>\n",
       "      <td>NaN</td>\n",
       "      <td>UNITED KINGDOM</td>\n",
       "      <td>S35 2PH</td>\n",
       "      <td>...</td>\n",
       "      <td>NaN</td>\n",
       "      <td>NaN</td>\n",
       "      <td>NaN</td>\n",
       "      <td>NaN</td>\n",
       "      <td>NaN</td>\n",
       "      <td>NaN</td>\n",
       "      <td>NaN</td>\n",
       "      <td>NaN</td>\n",
       "      <td>11/08/2021</td>\n",
       "      <td>NaN</td>\n",
       "    </tr>\n",
       "  </tbody>\n",
       "</table>\n",
       "<p>1 rows × 55 columns</p>\n",
       "</div>"
      ],
      "text/plain": [
       "  CompanyName  CompanyNumber RegAddress.CareOf RegAddress.POBox  \\\n",
       "0   ! LIMITED       12778855               NaN              NaN   \n",
       "\n",
       "         RegAddress.AddressLine1  RegAddress.AddressLine2 RegAddress.PostTown  \\\n",
       "0  UNIT 3 NEWTON BUSINESS CENTRE     NEWTON CHAMBERS ROAD           SHEFFIELD   \n",
       "\n",
       "  RegAddress.County RegAddress.Country RegAddress.PostCode  ...  \\\n",
       "0               NaN     UNITED KINGDOM             S35 2PH  ...   \n",
       "\n",
       "  PreviousName_7.CONDATE  PreviousName_7.CompanyName PreviousName_8.CONDATE  \\\n",
       "0                    NaN                         NaN                    NaN   \n",
       "\n",
       "    PreviousName_8.CompanyName PreviousName_9.CONDATE  \\\n",
       "0                          NaN                    NaN   \n",
       "\n",
       "    PreviousName_9.CompanyName  PreviousName_10.CONDATE  \\\n",
       "0                          NaN                      NaN   \n",
       "\n",
       "   PreviousName_10.CompanyName ConfStmtNextDueDate  ConfStmtLastMadeUpDate  \n",
       "0                          NaN          11/08/2021                     NaN  \n",
       "\n",
       "[1 rows x 55 columns]"
      ]
     },
     "execution_count": 13,
     "metadata": {},
     "output_type": "execute_result"
    }
   ],
   "source": [
    "companies.head(1)"
   ]
  },
  {
   "cell_type": "code",
   "execution_count": 15,
   "metadata": {
    "ExecuteTime": {
     "end_time": "2021-03-18T12:09:50.634646Z",
     "start_time": "2021-03-18T12:09:37.957891Z"
    }
   },
   "outputs": [],
   "source": [
    "companies1 = companies[companies['CompanyStatus'] == 'Active'][['CompanyName', ' CompanyNumber',]]"
   ]
  },
  {
   "cell_type": "code",
   "execution_count": 16,
   "metadata": {
    "ExecuteTime": {
     "end_time": "2021-03-18T12:09:54.091912Z",
     "start_time": "2021-03-18T12:09:54.039877Z"
    }
   },
   "outputs": [
    {
     "name": "stdout",
     "output_type": "stream",
     "text": [
      "<class 'pandas.core.frame.DataFrame'>\n",
      "Int64Index: 4620357 entries, 0 to 4905584\n",
      "Data columns (total 2 columns):\n",
      " #   Column          Dtype \n",
      "---  ------          ----- \n",
      " 0   CompanyName     object\n",
      " 1    CompanyNumber  object\n",
      "dtypes: object(2)\n",
      "memory usage: 105.8+ MB\n"
     ]
    }
   ],
   "source": [
    "companies1.info()"
   ]
  },
  {
   "cell_type": "code",
   "execution_count": 18,
   "metadata": {
    "ExecuteTime": {
     "end_time": "2021-03-18T12:15:28.551645Z",
     "start_time": "2021-03-18T12:15:15.208574Z"
    }
   },
   "outputs": [],
   "source": [
    "companies1.to_csv('companies1.csv')"
   ]
  },
  {
   "cell_type": "code",
   "execution_count": null,
   "metadata": {},
   "outputs": [],
   "source": [
    "https://find-and-update.company-information.service.gov.uk/company/12778855/officers"
   ]
  },
  {
   "cell_type": "code",
   "execution_count": 138,
   "metadata": {
    "ExecuteTime": {
     "end_time": "2021-03-19T23:09:53.542064Z",
     "start_time": "2021-03-19T23:09:53.119549Z"
    }
   },
   "outputs": [
    {
     "data": {
      "text/plain": [
       "<!DOCTYPE html>\n",
       "\n",
       "<!--[if lt IE 9]><html class=\"lte-ie8\" lang=\"en\"><![endif]-->\n",
       "<!--[if gt IE 8]><!--><html lang=\"en\"><!--<![endif]--><head>\n",
       "<meta content=\"text/html; charset=utf-8\" http-equiv=\"content-type\"/>\n",
       "<!-- Company numbers are not taken as a phone number -->\n",
       "<meta content=\"telephone=no\" name=\"format-detection\"/>\n",
       "<title data-id=\"company_officers\">1644 CLUB PLC - Officers (free information from Companies House)</title>\n",
       "<meta content=\"1644 CLUB PLC - Free company information from Companies House including registered office address, filing history, accounts, annual return, officers, charges, business activity\" name=\"description\"/>\n",
       "<script>\n",
       "      (function(){if(navigator.userAgent.match(/IEMobile\\/10\\.0/)){var d=document,c=\"appendChild\",a=d.createElement(\"style\");a[c](d.createTextNode(\"@-ms-viewport{width:auto!important}\"));d.getElementsByTagName(\"head\")[0][c](a);}})();\n",
       "   </script>\n",
       "<!--[if gt IE 8]><!--><link href=\"//d1mhdmez52qjiz.cloudfront.net/stylesheets/assets-digital-cabinet-office-gov-uk-static/govuk-template.css\" media=\"screen\" rel=\"stylesheet\" type=\"text/css\"/><!--<![endif]-->\n",
       "<!--[if IE 6]><link href=\"//d1mhdmez52qjiz.cloudfront.net/stylesheets/assets-digital-cabinet-office-gov-uk-static/govuk-template-ie6.css\" media=\"screen\" rel=\"stylesheet\" type=\"text/css\" /><![endif]-->\n",
       "<!--[if IE 7]><link href=\"//d1mhdmez52qjiz.cloudfront.net/stylesheets/assets-digital-cabinet-office-gov-uk-static/govuk-template-ie7.css\" media=\"screen\" rel=\"stylesheet\" type=\"text/css\" /><![endif]-->\n",
       "<!--[if IE 8]><link href=\"//d1mhdmez52qjiz.cloudfront.net/stylesheets/assets-digital-cabinet-office-gov-uk-static/govuk-template-ie8.css\" media=\"screen\" rel=\"stylesheet\" type=\"text/css\" /><![endif]-->\n",
       "<link href=\"//d1mhdmez52qjiz.cloudfront.net/stylesheets/assets-digital-cabinet-office-gov-uk-static/govuk-template-print.css\" media=\"print\" rel=\"stylesheet\" type=\"text/css\"/>\n",
       "<!--[if IE 8]>\n",
       "      <script type=\"text/javascript\">\n",
       "         (function(){if(window.opera){return;}\n",
       "         setTimeout(function(){var a=document,g,b={families:(g=\n",
       "         [\"nta\"]),urls:[\"https://assets.digital.cabinet-office.gov.uk/static/fonts-ie8-a7369d48db4c172b4371ab9def59c5c9.css\"]},\n",
       "         c=\"https://assets.digital.cabinet-office.gov.uk/static/vendor/goog/webfont-debug-96870cf9f159ed811fd43c39bdf4656b.js\",d=\"script\",\n",
       "         e=a.createElement(d),f=a.getElementsByTagName(d)[0],h=g.length;WebFontConfig\n",
       "         ={custom:b},e.src=c,f.parentNode.insertBefore(e,f);for(;h=h-1;a.documentElement\n",
       "         .className+=' wf-'+g[h].replace(/\\s/g,'').toLowerCase()+'-n4-loading');},0)\n",
       "      })()\n",
       "  </script>\n",
       "  <![endif]-->\n",
       "<!--[if gte IE 9]><!-->\n",
       "<!--link href=\"https://assets.digital.cabinet-office.gov.uk/static/fonts-607c54f71c7c1f98257595cedaa13a34.css\" media=\"all\" rel=\"stylesheet\" type=\"text/css\" -->\n",
       "<!--<![endif]-->\n",
       "<!--[if lt IE 9]>\n",
       "    <script src=\"//d1mhdmez52qjiz.cloudfront.net/javascripts/vendor/assets-digital-cabinet-office-gov-uk-static/ie.js\" type=\"text/javascript\"></script>\n",
       "   <![endif]-->\n",
       "<link href=\"//d1mhdmez52qjiz.cloudfront.net/images/favicon.ico\" rel=\"shortcut icon\" type=\"image/x-icon\"/>\n",
       "<!-- For third-generation iPad with high-resolution Retina display: --><link href=\"//d1mhdmez52qjiz.cloudfront.net/images/apple-touch-icon-144x144.png\" rel=\"apple-touch-icon-precomposed\" sizes=\"144x144\"/>\n",
       "<!-- For iPhone with high-resolution Retina display: --><link href=\"//d1mhdmez52qjiz.cloudfront.net/images/apple-touch-icon-114x114.png\" rel=\"apple-touch-icon-precomposed\" sizes=\"114x114\"/>\n",
       "<!-- For first- and second-generation iPad: --><link href=\"//d1mhdmez52qjiz.cloudfront.net/images/apple-touch-icon-72x72.png\" rel=\"apple-touch-icon-precomposed\" sizes=\"72x72\"/>\n",
       "<!-- For non-Retina iPhone, iPod Touch, and Android 2.1+ devices: --><link href=\"//d1mhdmez52qjiz.cloudfront.net/images/apple-touch-icon-57x57.png\" rel=\"apple-touch-icon-precomposed\"/>\n",
       "<meta content=\"width=device-width, initial-scale=1\" name=\"viewport\"/>\n",
       "<meta content=\"//d1mhdmez52qjiz.cloudfront.net/images/opengraph-image.jpg\" property=\"og:image\"/>\n",
       "<!--[if gt IE 8]><!--><!--<link href=\"//d1mhdmez52qjiz.cloudfront.net/stylesheets/assets-digital-cabinet-office-gov-uk-static/application.css\" media=\"screen\" rel=\"stylesheet\" type=\"text/css\">--><!--<![endif]-->\n",
       "<!--[if IE 6]><link href=\"//d1mhdmez52qjiz.cloudfront.net/stylesheets/assets-digital-cabinet-office-gov-uk-static/application-ie6.css\" media=\"screen\" rel=\"stylesheet\" type=\"text/css\" /><![endif]-->\n",
       "<!--[if IE 7]><link href=\"//d1mhdmez52qjiz.cloudfront.net/stylesheets/assets-digital-cabinet-office-gov-uk-static/application-ie7.css\" media=\"screen\" rel=\"stylesheet\" type=\"text/css\" /><![endif]-->\n",
       "<!--[if IE 8]><link href=\"//d1mhdmez52qjiz.cloudfront.net/stylesheets/assets-digital-cabinet-office-gov-uk-static/application-ie8.css\" media=\"screen\" rel=\"stylesheet\" type=\"text/css\" /><![endif]-->\n",
       "<link href=\"//d1mhdmez52qjiz.cloudfront.net/stylesheets/assets-digital-cabinet-office-gov-uk-static/print.css\" media=\"print\" rel=\"stylesheet\" type=\"text/css\"/>\n",
       "<!--[if gt IE 8]><!--><link href=\"//d1mhdmez52qjiz.cloudfront.net/stylesheets/assets-digital-cabinet-office-gov-uk-static/frontend-application.css\" media=\"screen\" rel=\"stylesheet\" type=\"text/css\"/><!--<![endif]-->\n",
       "<!--[if IE 6]><link href=\"//d1mhdmez52qjiz.cloudfront.net/stylesheets/assets-digital-cabinet-office-gov-uk-static/frontend-application-ie6.css\" media=\"screen\" rel=\"stylesheet\" type=\"text/css\" /><![endif]--><!--[if IE 7]><link href=\"//d1mhdmez52qjiz.cloudfront.net/style/assets-digital-cabinet-office-gov-uk-static/frontend-application-ie7.css\" media=\"screen\" rel=\"stylesheet\" type=\"text/css\" /><![endif]--><!--[if IE 8]><link href=\"//d1mhdmez52qjiz.cloudfront.net/style/assets-digital-cabinet-office-gov-uk-static/frontend-application-ie8.css\" media=\"screen\" rel=\"stylesheet\" type=\"text/css\" /><![endif]-->\n",
       "<!-- Companies House Styles and Scripts -->\n",
       "<!--[if gt IE 8]><!--><link href=\"//d1mhdmez52qjiz.cloudfront.net/stylesheets/application.css\" media=\"screen\" rel=\"stylesheet\" type=\"text/css\"/><!--<![endif]-->\n",
       "<!--[if IE 6]><link href=\"//d1mhdmez52qjiz.cloudfront.net/stylesheets/application-ie6.css\" media=\"screen\" rel=\"stylesheet\" type=\"text/css\"><![endif]-->\n",
       "<!--[if IE 7]><link href=\"//d1mhdmez52qjiz.cloudfront.net/stylesheets/application-ie7.css\" media=\"screen\" rel=\"stylesheet\" type=\"text/css\"><![endif]-->\n",
       "<!--[if IE 8]><link href=\"//d1mhdmez52qjiz.cloudfront.net/stylesheets/application-ie8.css\" media=\"screen\" rel=\"stylesheet\" type=\"text/css\"><![endif]-->\n",
       "<link href=\"//d1mhdmez52qjiz.cloudfront.net/stylesheets/print.css\" media=\"print\" rel=\"stylesheet\" type=\"text/css\"/>\n",
       "<link href=\"//d1mhdmez52qjiz.cloudfront.net/stylesheets/jquery-ui.css\" rel=\"stylesheet\">\n",
       "<!-- Global config of Require.js -->\n",
       "<script>var global = global || {}; global.CDN_ROOT = '//d1mhdmez52qjiz.cloudfront.net'</script>\n",
       "<script src=\"//d1mhdmez52qjiz.cloudfront.net/javascripts/vendor/require.js\"></script>\n",
       "<script src=\"//d1mhdmez52qjiz.cloudfront.net/javascripts/app/accounts-pdf.js\"></script>\n",
       "<script src=\"//d1mhdmez52qjiz.cloudfront.net/javascripts/lib/details-polyfill.js\"></script>\n",
       "<script src=\"//d1mhdmez52qjiz.cloudfront.net/javascripts/app/generate-document.js\"></script>\n",
       "<script src=\"//d1mhdmez52qjiz.cloudfront.net/javascripts/vendor/jquery-1.12.4.min.js\"></script>\n",
       "<script>\n",
       "  require(['//d1mhdmez52qjiz.cloudfront.net/javascripts/require-global-config.js'], function () {\n",
       "    console.log('Loaded require-global-config.js');\n",
       "    // Specific to this 'action'\n",
       "        require(['//d1mhdmez52qjiz.cloudfront.net/javascripts/app/feedback.js'], function () {\n",
       "            console.log('Required feedback.js.');\n",
       "        });\n",
       "        require(['//d1mhdmez52qjiz.cloudfront.net/javascripts/app/transactions/company/officer_listing_view.js'], function () {\n",
       "            console.log('Required transactions/company/officer_listing_view.js.');\n",
       "        });\n",
       "  });\n",
       "  </script>\n",
       "<!-- End of Companies House Styles and Scripts -->\n",
       "<link href=\"/opensearch.xml\" rel=\"search\" type=\"application/opensearchdescription+xml\"/>\n",
       "<!--[if !IE 8]><!-->\n",
       "<link href=\"//d1mhdmez52qjiz.cloudfront.net/stylesheets/cookie-consent/cookie-banner-3.11.0.min.css\" rel=\"stylesheet\">\n",
       "<!--<![endif]-->\n",
       "<!--[if IE 8]>\n",
       "<link href=\"//d1mhdmez52qjiz.cloudfront.net/stylesheets/cookie-consent/cookie-banner-ie8-3.11.0.min.css\" rel=\"stylesheet\" />\n",
       "<![endif]-->\n",
       "</link></link></head>\n",
       "<body>\n",
       "<script>\n",
       "    document.body.className += ' js-enabled';\n",
       "  </script>\n",
       "<div class=\"entire-wrapper\">\n",
       "<div aria-label=\"Cookies on Companies House services\" class=\"ch-cookie-cookie-banner\" hidden=\"\" id=\"cookie-banner\" role=\"region\">\n",
       "<div class=\"ch-cookie-cookie-banner__message ch-cookie-width-container\" hidden=\"\" id=\"accept-or-reject-message\" role=\"alert\">\n",
       "<div class=\"ch-cookie-grid-row\">\n",
       "<div class=\"ch-cookie-grid-column-two-thirds\">\n",
       "<h2 class=\"ch-cookie-cookie-banner__heading ch-cookie-heading-m\">Cookies on Companies House services</h2>\n",
       "<div class=\"ch-cookie-cookie-banner__content\">\n",
       "<p>We use some essential cookies to make our services work.</p>\n",
       "<p>We'd also like to use analytics cookies so we can understand how you use our services and to make improvements.</p>\n",
       "</div>\n",
       "</div>\n",
       "</div>\n",
       "<div class=\"ch-cookie-button-group\">\n",
       "<button class=\"ch-cookie-button\" data-module=\"ch-cookie-button\" id=\"accept-cookies-button\" type=\"button\">\n",
       "        Accept analytics cookies\n",
       "      </button>\n",
       "<button class=\"ch-cookie-button\" data-module=\"ch-cookie-button\" id=\"reject-cookies-button\" type=\"button\">\n",
       "        Reject analytics cookies\n",
       "      </button>\n",
       "<a class=\"ch-cookie-link\" href=\"/help/cookies\">View cookies</a>\n",
       "</div>\n",
       "</div>\n",
       "<div class=\"ch-cookie-cookie-banner__message ch-cookie-width-container\" hidden=\"\" id=\"accepted-cookies-message\" role=\"alert\">\n",
       "<div class=\"ch-cookie-grid-row\">\n",
       "<div class=\"ch-cookie-grid-column-two-thirds\">\n",
       "<div class=\"ch-cookie-cookie-banner__content\">\n",
       "<p>You've accepted analytics cookies. You can <a class=\"ch-cookie-link\" href=\"/help/cookies\">change your cookie settings</a> at any time.</p>\n",
       "</div>\n",
       "</div>\n",
       "</div>\n",
       "<div class=\"ch-cookie-button-group\">\n",
       "<button class=\"ch-cookie-button\" data-module=\"ch-cookie-button\" id=\"hide-accepted-message-button\">\n",
       "        Hide this message\n",
       "      </button>\n",
       "</div>\n",
       "</div>\n",
       "<div class=\"ch-cookie-cookie-banner__message ch-cookie-width-container\" hidden=\"\" id=\"rejected-cookies-message\" role=\"alert\">\n",
       "<div class=\"ch-cookie-grid-row\">\n",
       "<div class=\"ch-cookie-grid-column-two-thirds\">\n",
       "<div class=\"ch-cookie-cookie-banner__content\">\n",
       "<p>You've rejected analytics cookies. You can <a class=\"ch-cookie-link\" href=\"/help/cookies\">change your cookie settings</a> at any time.</p>\n",
       "</div>\n",
       "</div>\n",
       "</div>\n",
       "<div class=\"ch-cookie-button-group\">\n",
       "<button class=\"ch-cookie-button\" data-module=\"ch-cookie-button\" id=\"hide-rejected-message-button\">\n",
       "        Hide this message\n",
       "      </button>\n",
       "</div>\n",
       "</div>\n",
       "</div>\n",
       "<noscript>\n",
       "<div aria-label=\"Cookies on Companies House services\" class=\"ch-cookie-cookie-banner\" role=\"region\">\n",
       "<div class=\"ch-cookie-cookie-banner__message ch-cookie-width-container\">\n",
       "<div class=\"ch-cookie-grid-row\">\n",
       "<div class=\"ch-cookie-grid-column-two-thirds\">\n",
       "<h2 class=\"ch-cookie-cookie-banner__heading ch-cookie-heading-m\">Cookies on Companies House services</h2>\n",
       "<div class=\"ch-cookie-cookie-banner__content\">\n",
       "<p class=\"ch-cookie-body\">We use cookies to make our services work and collect analytics information. To accept or reject analytics cookies, turn on JavaScript in your browser settings and reload this page.</p>\n",
       "</div>\n",
       "</div>\n",
       "</div>\n",
       "</div>\n",
       "</div>\n",
       "</noscript>\n",
       "<div id=\"skiplink-container\">\n",
       "<div>\n",
       "<!--$alternative_skiplink provides a different ID as #content contains styling which can throw off certain screens-->\n",
       "<a class=\"skiplink\" href=\"#content\">Skip to main content</a>\n",
       "</div>\n",
       "</div>\n",
       "<!-- // CH.GOV.UK HEADER -->\n",
       "<header id=\"global-header\" role=\"banner\">\n",
       "<div class=\"header-wrapper\">\n",
       "<div class=\"header-global\">\n",
       "<div class=\"header-logo\">\n",
       "<a class=\"content\" href=\"/\" id=\"logo\" onclick=\"javascript:_paq.push(['trackEvent', 'CHLogo', 'Homepage']);\" title=\"Go to the Companies House homepage\">\n",
       "            Companies House\n",
       "          </a>\n",
       "<!--<a href=\"#search\" class=\"search-toggle js-header-toggle\">Search</a>-->\n",
       "</div>\n",
       "</div>\n",
       "</div>\n",
       "</header>\n",
       "<!--end header-->\n",
       "<main class=\"search\" id=\"page-container\" role=\"main\">\n",
       "<div class=\"phase-banner\">\n",
       "<div class=\"small-text\"><a href=\"http://resources.companieshouse.gov.uk/serviceInformation.shtml#compInfo\" target=\"_blank\">Companies House does not verify the accuracy of the information filed<span class=\"visuallyhidden\">(link opens a new window)</span></a></div>\n",
       "</div>\n",
       "<div class=\"js-toggle-nav\" id=\"global-nav\">\n",
       "<a class=\"sign-in\" href=\"/signin\" id=\"user-signin-mobile\">Sign in / Register</a>\n",
       "<nav class=\"content mobile-hidden\" role=\"navigation\">\n",
       "<ul id=\"navigation\">\n",
       "<li class=\"unauthenticated\"><a href=\"/signin\" id=\"user-signin\">Sign in / Register</a></li>\n",
       "</ul>\n",
       "</nav>\n",
       "</div>\n",
       "<div class=\"column-full-width\">\n",
       "<form accept-charset=\"utf-8\" action=\"/search\" class=\"search-header\" id=\"search\" method=\"get\" role=\"search\">\n",
       "<div class=\"search-bar-active\">\n",
       "<div class=\"searchfield\">\n",
       "<label class=\"hidden\" for=\"site-search-text\">Search for a company or officer</label>\n",
       "<input autocomplete=\"off\" id=\"site-search-text\" name=\"q\" placeholder=\"Search for a company or officer\" title=\"Search for a company or officer\" type=\"search\" value=\"\"/>\n",
       "<button class=\"search-submit\" id=\"search-submit\" type=\"submit\">Search</button>\n",
       "<p class=\"slow-search-msg\" id=\"slowsearch\" style=\"display:none\">Please press ENTER to search</p>\n",
       "</div> <!--end searchfield-->\n",
       "</div></form>\n",
       "</div> <!--end search-bar-active-->\n",
       "<script id=\"noresults-template\" type=\"text/html\">\n",
       "    <div class=\"grid-row\">\n",
       "        <div class=\"column-two-thirds\">\n",
       "        \t\t<article id=\"no-results\" class=\"text\">\n",
       "        \t\t\t\t<h2 class=\"heading-large\">No results found for \"<span class='term'>{{term}}</span>\"</h2>\n",
       "        \t\t\t\t<p>\n",
       "                            Please try searching again using different search criteria.\n",
       "        \t\t\t\t</p>\n",
       "        \t\t</article>\n",
       "        </div>\n",
       "    </div>\n",
       "</script>\n",
       "<script id=\"tabs-template\" type=\"text/html\">\n",
       "    <div id=\"search-results-tabs\" class=\"filter-bar js-tabs\">\n",
       "<ul class=\"search-tabs\">\n",
       "    <li id='all-tab'>\n",
       "        <label class=\"visuallyhidden\" for=\"search_all\">Search for companies or officers</label>\n",
       "        <a id='search_all' href=\"/search?#q={{term}}\" >All</a><span name=\"is_selected\" id=search_all_is_selected class=\"visuallyhidden\"></span>\n",
       "    </li>\n",
       "    <li id='companies-tab'>\n",
       "        <label class=\"visuallyhidden\" for=\"search_companies\">Search for companies</label>\n",
       "        <a id='search_companies' href=\"/search/companies?#q={{term}}\" >Companies</a><span name=\"is_selected\" id=search_companies_is_selected class=\"visuallyhidden\"></span>\n",
       "    </li>\n",
       "    <li id='officers-tab'>\n",
       "        <label class=\"visuallyhidden\" for=\"search_officers\">Search for officers</label>\n",
       "        <a id='search_officers' href=\"/search/officers?#q={{term}}\" >Officers</a><span name=\"is_selected\" id=search_officers_is_selected class=\"visuallyhidden\"></span>\n",
       "\t\t</li>\n",
       "    <li id=\"disqualifications-tab\">\n",
       "        <label class=\"visuallyhidden\" for=\"search_disqualifications\">Search for disqualfied officers</label>\n",
       "        <a id=\"search_disqualifications\" href=\"/search/disqualified-officers?#q={{term}}\"  onclick=\"javascript:_paq.push(['trackEvent', 'Disqualifications', 'SearchTabs']);\">Disqualifications</a><span name=\"is_selected\" id=search_disqualifications_is_selected class=\"visuallyhidden\"></span>\n",
       "    </li>\n",
       "</ul>\n",
       "    </div>\n",
       "</script>\n",
       "<script id=\"hit-template\" type=\"text/html\">\n",
       "{{#type_is_company}}\n",
       "\t<li class=\"type-company\">\n",
       "\t\t<h3>\n",
       "\t\t\t<a href=\"{{url}}\"title=\"View company\"> {{{title}}}\n",
       "\t\t\t</a>\n",
       "\t\t</h3>\n",
       "        {{#snippet}}<p class=\"meta crumbtrail inset\">Matching previous names:<br/><span>{{{ snippet }}}</span></\n",
       "        <p class=\"meta crumbtrail\"> {{{description}}} </p>\n",
       "        <p>{{{ address_snippet }}}</p>\n",
       "\t</li>\n",
       "{{/type_is_company}}\n",
       "\n",
       "{{#type_is_officer}}\n",
       "\t<li class=\"type-officer\">\n",
       "\t\t<h3><a href=\"{{url}}\">{{{title}}}</a></h3>\n",
       "        {{#snippet}}<p class=\"meta crumbtrail inset\">Matching appointment names:<br/><span>{{{ snippet }}}</span></\n",
       "        <p class=\"meta crumbtrail\"> {{{description}}} </p>\n",
       "        <p>{{{ address_snippet }}}</p>\n",
       "\t</li>\n",
       "{{/type_is_officer}}\n",
       "\n",
       "{{#type_is_disqualified-officer}}\n",
       "    <li class=\"type-disqualified-officer\">\n",
       "        <h3><a href=\"{{url}}\">{{{title}}}</a></h3>\n",
       "        {{#snippet}}<p class=\"meta crumbtrail inset\">Matching disqualification names:<br/><span>{{{ snippet }}}</span></\n",
       "        <p class=\"meta crumbtrail\"> {{{description}}} </p>\n",
       "        <p>{{{ address_snippet }}}</p>\n",
       "    </li>\n",
       "{{/type_is_disqualified-officer}}\n",
       "</script>\n",
       "</main></div><!-- column-end -->\n",
       "<div id=\"content-container\">\n",
       "<script src=\"https://ajax.googleapis.com/ajax/libs/jquery/2.2.2/jquery.min.js\"></script>\n",
       "<script src=\"//d1mhdmez52qjiz.cloudfront.net/javascripts/vendor/selection-buttons.js\"></script> <!-- Needed for new GDS-style radio buttons and checkboxes-->\n",
       "<script src=\"//d1mhdmez52qjiz.cloudfront.net/javascripts/vendor/application.js\"></script> <!-- Needed for new GDS-style radio buttons and checkboxes-->\n",
       "<div class=\"company-header\">\n",
       "<div class=\"content-override\" id=\"content\"></div>\n",
       "<p class=\"heading-xlarge\">1644 CLUB PLC</p>\n",
       "<p id=\"company-number\">\n",
       "            Company number\n",
       "            <strong>09409467</strong>\n",
       "</p>\n",
       "<div class=\"actions\">\n",
       "<a class=\"button\" href=\"https://follow.company-information.service.gov.uk/company/09409467/confirm-follow?return_to=https://find-and-update.company-information.service.gov.uk/company/09409467/officers\" id=\"follow-this-company\" onclick=\"javascript:_paq.push(['trackEvent', 'FollowCompany']);\">Follow this company\n",
       "                      </a>\n",
       "<a class=\"button\" href=\"/company/09409467/authorise?return_to=/company/09409467/officers\" id=\"file-for-this-company\" onclick=\"javascript:_paq.push(['trackEvent', 'FileForCompany', 'FilingHistory']);\">File for this company\n",
       "                            </a>\n",
       "</div>\n",
       "</div>\n",
       "<div class=\"section-tabs js-tabs\">\n",
       "<ul>\n",
       "<li>\n",
       "<a href=\"/company/09409467\" id=\"company-overview-tab\"><span class=\"visuallyhidden\">Company </span>Overview<span class=\"visuallyhidden\"> for 1644 CLUB PLC (09409467)</span></a>\n",
       "</li>\n",
       "<li>\n",
       "<a href=\"/company/09409467/filing-history\" id=\"filing-history-tab\">Filing history<span class=\"visuallyhidden\"> for 1644 CLUB PLC (09409467)</span></a>\n",
       "</li>\n",
       "<li class=\"active\">\n",
       "<h1> <a href=\"/company/09409467/officers\" id=\"people-tab\">People<span class=\"visuallyhidden\"> for 1644 CLUB PLC (09409467)</span></a>\n",
       "</h1>\n",
       "</li>\n",
       "<li>\n",
       "<a href=\"/company/09409467/more\" id=\"more-tab\">More<span class=\"visuallyhidden\"> for 1644 CLUB PLC (09409467)</span></a>\n",
       "</li> </ul>\n",
       "</div>\n",
       "<ul class=\"search-tabs\">\n",
       "<li class=\"active\" id=\"peoples-tab\">\n",
       "<a href=\"#\" id=\"officers-link\">Officers</a>\n",
       "</li>\n",
       "<li id=\"pscs-tab\">\n",
       "<a href=\"/company/09409467/persons-with-significant-control\" id=\"pscs-link\">Persons with significant control</a>\n",
       "</li>\n",
       "</ul>\n",
       "<div class=\"js-only\">\n",
       "<form class=\"form grid-row\" id=\"officer-filter\">\n",
       "<div class=\"column-half\">\n",
       "<h2 class=\"heading-medium filter-appointments\" id=\"officer-filter-h2\">\n",
       "                        Filter officers\n",
       "                </h2>\n",
       "<fieldset>\n",
       "<legend class=\"visuallyhidden\">Filter officers</legend>\n",
       "<label class=\"block-label selection-button-checkbox\" for=\"officer-category-active\">\n",
       "<input id=\"officer-category-active\" name=\"filter\" type=\"checkbox\" value=\"active\">\n",
       "                                Current officers\n",
       "                            </input></label>\n",
       "</fieldset>\n",
       "<input class=\"button js-hidden\" type=\"submit\" value=\"Apply filter\"/>\n",
       "</div>\n",
       "</form>\n",
       "</div>\n",
       "<h2 class=\"heading-medium\" id=\"company-appointments\">\n",
       "                4\n",
       "                officers \n",
       "                / 0\n",
       "                resignations\n",
       "    </h2>\n",
       "<div class=\"appointments-list\">\n",
       "<div class=\"appointment-1\">\n",
       "<h2 class=\"heading-medium\">\n",
       "<span id=\"officer-name-1\">\n",
       "<a href=\"/officers/0jq_pjtoTHLUacYYXoLbdwJeqwE/appointments\" onclick=\"javascript:_paq.push(['trackGoal', 5]);\">EUROTAX SECRETARIES LTD</a>\n",
       "</span>\n",
       "</h2>\n",
       "<dl>\n",
       "<dt id=\"officer-address-field-1\">Correspondence address</dt>\n",
       "<dd class=\"data\" id=\"officer-address-value-1\">\n",
       "220c, Blythe Road, London, United Kingdom, W14 0HH                    </dd>\n",
       "</dl>\n",
       "<div class=\"grid-row\">\n",
       "<dl class=\"column-quarter\">\n",
       "<dt>Role\n",
       "                               <span class=\"status-tag font-xsmall\" id=\"officer-status-tag-1\">Active</span>\n",
       "</dt>\n",
       "<dd class=\"data\" id=\"officer-role-1\">\n",
       "                            Secretary\n",
       "                        </dd>\n",
       "</dl>\n",
       "<dl class=\"column-quarter\">\n",
       "<dt>Appointed on</dt>\n",
       "<dd class=\"data\" id=\"officer-appointed-on-1\">\n",
       "                                28 January 2015\n",
       "                            </dd>\n",
       "</dl>\n",
       "</div>\n",
       "<div class=\"grid-row\">\n",
       "</div>\n",
       "<h3 class=\"\">UK Limited Company <a href=\"/help/corporate-officer-identification-type\">What's this?</a></h3>\n",
       "<div class=\"grid-row\">\n",
       "</div>\n",
       "<div class=\"grid-row\">\n",
       "<dl class=\"column-quarter\">\n",
       "<dt>Registration number</dt>\n",
       "<dd class=\"data\" id=\"officer-registration-number-1\">\n",
       "                                07565547\n",
       "                            </dd>\n",
       "</dl>\n",
       "</div>\n",
       "</div>\n",
       "<div class=\"appointment-2\">\n",
       "<h2 class=\"heading-medium heading-with-border\">\n",
       "<span id=\"officer-name-2\">\n",
       "<a href=\"/officers/hJmijw3gRGNki7hCMMwMPNi_wmo/appointments\" onclick=\"javascript:_paq.push(['trackGoal', 5]);\">HAMPDEN-WHITE, Colin George, Sir</a>\n",
       "</span>\n",
       "</h2>\n",
       "\n",
       "<dl>\n",
       "<dt id=\"officer-address-field-2\">Correspondence address</dt>\n",
       "<dd class=\"data\" id=\"officer-address-value-2\">\n",
       "352 Riverside Mansions, Milk Yard, Wapping, London, United Kingdom, E1W 3SU                    </dd>\n",
       "</dl>\n",
       "<div class=\"grid-row\">\n",
       "<dl class=\"column-quarter\">\n",
       "<dt>Role\n",
       "                               <span class=\"status-tag font-xsmall\" id=\"officer-status-tag-2\">Active</span>\n",
       "</dt>\n",
       "<dd class=\"data\" id=\"officer-role-2\">\n",
       "                            Director\n",
       "                        </dd>\n",
       "</dl>\n",
       "<dl class=\"column-quarter\">\n",
       "<dt>Date of birth</dt>\n",
       "<dd class=\"data\" id=\"officer-date-of-birth-2\">\n",
       "                                December 1971\n",
       "                            </dd>\n",
       "</dl>\n",
       "<dl class=\"column-quarter\">\n",
       "<dt>Appointed on</dt>\n",
       "<dd class=\"data\" id=\"officer-appointed-on-2\">\n",
       "                                28 January 2015\n",
       "                            </dd>\n",
       "</dl>\n",
       "</div>\n",
       "<div class=\"grid-row\">\n",
       "<dl class=\"column-quarter\">\n",
       "<dt>Nationality</dt>\n",
       "<dd class=\"data\" id=\"officer-nationality-2\">\n",
       "                                British\n",
       "                            </dd>\n",
       "</dl>\n",
       "<dl class=\"column-quarter\">\n",
       "<dt>Country of residence</dt>\n",
       "<dd class=\"data\" id=\"officer-country-of-residence-2\">\n",
       "                                United Kingdom\n",
       "                            </dd>\n",
       "</dl>\n",
       "<dl class=\"column-quarter\">\n",
       "<dt>Occupation</dt>\n",
       "<dd class=\"data\" id=\"officer-occupation-2\">\n",
       "                                Company Director\n",
       "                            </dd>\n",
       "</dl>\n",
       "</div>\n",
       "<div class=\"grid-row\">\n",
       "</div>\n",
       "<div class=\"grid-row\">\n",
       "</div>\n",
       "</div>\n",
       "<div class=\"appointment-3\">\n",
       "<h2 class=\"heading-medium heading-with-border\">\n",
       "<span id=\"officer-name-3\">\n",
       "<a href=\"/officers/yCIfKkrbh3tVwbJgC2kXVY4NFcw/appointments\" onclick=\"javascript:_paq.push(['trackGoal', 5]);\">MARUSZEWSKI, Krzysztof Tomasz</a>\n",
       "</span>\n",
       "</h2>\n",
       "\n",
       "<dl>\n",
       "<dt id=\"officer-address-field-3\">Correspondence address</dt>\n",
       "<dd class=\"data\" id=\"officer-address-value-3\">\n",
       "21 Podlaska, Poznan, Poland, 60 832                    </dd>\n",
       "</dl>\n",
       "<div class=\"grid-row\">\n",
       "<dl class=\"column-quarter\">\n",
       "<dt>Role\n",
       "                               <span class=\"status-tag font-xsmall\" id=\"officer-status-tag-3\">Active</span>\n",
       "</dt>\n",
       "<dd class=\"data\" id=\"officer-role-3\">\n",
       "                            Director\n",
       "                        </dd>\n",
       "</dl>\n",
       "<dl class=\"column-quarter\">\n",
       "<dt>Date of birth</dt>\n",
       "<dd class=\"data\" id=\"officer-date-of-birth-3\">\n",
       "                                January 1979\n",
       "                            </dd>\n",
       "</dl>\n",
       "<dl class=\"column-quarter\">\n",
       "<dt>Appointed on</dt>\n",
       "<dd class=\"data\" id=\"officer-appointed-on-3\">\n",
       "                                28 January 2015\n",
       "                            </dd>\n",
       "</dl>\n",
       "</div>\n",
       "<div class=\"grid-row\">\n",
       "<dl class=\"column-quarter\">\n",
       "<dt>Nationality</dt>\n",
       "<dd class=\"data\" id=\"officer-nationality-3\">\n",
       "                                Polish\n",
       "                            </dd>\n",
       "</dl>\n",
       "<dl class=\"column-quarter\">\n",
       "<dt>Country of residence</dt>\n",
       "<dd class=\"data\" id=\"officer-country-of-residence-3\">\n",
       "                                Poland\n",
       "                            </dd>\n",
       "</dl>\n",
       "<dl class=\"column-quarter\">\n",
       "<dt>Occupation</dt>\n",
       "<dd class=\"data\" id=\"officer-occupation-3\">\n",
       "                                Company Director\n",
       "                            </dd>\n",
       "</dl>\n",
       "</div>\n",
       "<div class=\"grid-row\">\n",
       "</div>\n",
       "<div class=\"grid-row\">\n",
       "</div>\n",
       "</div>\n",
       "<div class=\"appointment-4\">\n",
       "<h2 class=\"heading-medium heading-with-border\">\n",
       "<span id=\"officer-name-4\">\n",
       "<a href=\"/officers/lqUY6THW6Wn2MaR29UAB-FJkeso/appointments\" onclick=\"javascript:_paq.push(['trackGoal', 5]);\">ORR, Christopher Andrew</a>\n",
       "</span>\n",
       "</h2>\n",
       "\n",
       "<dl>\n",
       "<dt id=\"officer-address-field-4\">Correspondence address</dt>\n",
       "<dd class=\"data\" id=\"officer-address-value-4\">\n",
       "9 St Keyna Avenue, Hove, United Kingdom, BN3 4PN                    </dd>\n",
       "</dl>\n",
       "<div class=\"grid-row\">\n",
       "<dl class=\"column-quarter\">\n",
       "<dt>Role\n",
       "                               <span class=\"status-tag font-xsmall\" id=\"officer-status-tag-4\">Active</span>\n",
       "</dt>\n",
       "<dd class=\"data\" id=\"officer-role-4\">\n",
       "                            Director\n",
       "                        </dd>\n",
       "</dl>\n",
       "<dl class=\"column-quarter\">\n",
       "<dt>Date of birth</dt>\n",
       "<dd class=\"data\" id=\"officer-date-of-birth-4\">\n",
       "                                September 1968\n",
       "                            </dd>\n",
       "</dl>\n",
       "<dl class=\"column-quarter\">\n",
       "<dt>Appointed on</dt>\n",
       "<dd class=\"data\" id=\"officer-appointed-on-4\">\n",
       "                                28 January 2015\n",
       "                            </dd>\n",
       "</dl>\n",
       "</div>\n",
       "<div class=\"grid-row\">\n",
       "<dl class=\"column-quarter\">\n",
       "<dt>Nationality</dt>\n",
       "<dd class=\"data\" id=\"officer-nationality-4\">\n",
       "                                British\n",
       "                            </dd>\n",
       "</dl>\n",
       "<dl class=\"column-quarter\">\n",
       "<dt>Country of residence</dt>\n",
       "<dd class=\"data\" id=\"officer-country-of-residence-4\">\n",
       "                                England\n",
       "                            </dd>\n",
       "</dl>\n",
       "<dl class=\"column-quarter\">\n",
       "<dt>Occupation</dt>\n",
       "<dd class=\"data\" id=\"officer-occupation-4\">\n",
       "                                Company Director\n",
       "                            </dd>\n",
       "</dl>\n",
       "</div>\n",
       "<div class=\"grid-row\">\n",
       "</div>\n",
       "<div class=\"grid-row\">\n",
       "</div>\n",
       "</div>\n",
       "</div>\n",
       "</div>\n",
       "\n",
       "<!--end main-->\n",
       "<div class=\"push\"></div>\n",
       " <!-- end of entire-wrapper -->\n",
       "<div id=\"chs-customer-insights\">\n",
       "<a href=\"https://www.research.net/r/S78XJMV\" onclick=\"javascript:_paq.push(['trackEvent', 'Beta', 'Feedback']);\" target=\"_blank\">Tell us what you think of this service<span class=\"hidden\">(link opens a new window)</span></a>\n",
       "<a class=\"secondary-customer-insights\" id=\"feedback-link\" target=\"_blank\">Is there anything wrong with this page?<span class=\"hidden\">(link opens a new window)</span></a>\n",
       "</div>\n",
       "<footer class=\"group js-footer\" id=\"footer\" role=\"contentinfo\">\n",
       "<nav>\n",
       "<div>\n",
       "<ul>\n",
       "<li><a href=\"http://resources.companieshouse.gov.uk/legal/termsAndConditions.shtml\" target=\"_blank\">Policies</a></li>\n",
       "<li><a href=\"/help/cookies\">Cookies</a></li>\n",
       "<li><a href=\"/help/contact-us\">Contact us</a></li>\n",
       "<li><a href=\"/help/accessibility-statement\">Accessibility statement</a></li>\n",
       "<li><a href=\"https://developer.companieshouse.gov.uk/\" target=\"_blank\">Developers</a></li>\n",
       "</ul>\n",
       "</div>\n",
       "</nav>\n",
       "</footer>\n",
       "<!--end footer-->\n",
       "<div class=\"app-error hidden\" id=\"global-app-error\"></div>\n",
       "<!-- BEGIN Companies House Scripts -->\n",
       "<!-- Piwik -->\n",
       "<script src=\"//d1mhdmez52qjiz.cloudfront.net/javascripts/app/cookie-consent/cookie-consent-1.0.0.js\"></script>\n",
       "<script type=\"text/javascript\">\n",
       "  var _paq = _paq || [];\n",
       "\n",
       "  var path = document.location.pathname;\n",
       "\n",
       "  if ( path.match(/company\\/[A-Z0-9]{8}/) || path.match(/transactions\\/\\d{6}-\\d{6}-\\d{6}/) || path.match(/charges\\/.+$/) || path.match(/officers\\/.+\\/appointments$/) ){\n",
       "    path = path.replace(/company\\/[A-Z0-9]{8}/,\"company/_number\");\n",
       "    path = path.replace(/transactions\\/\\d{6}-\\d{6}-\\d{6}/,\"transactions/_id\");\n",
       "    path = path.replace(/charges\\/.+$/,\"charges/_id\");\n",
       "    path = path.replace(/officers\\/.+\\/appointments$/,\"officers/_id/appointments\")\n",
       "\n",
       "    if ( !document.location.origin ) {\n",
       "      document.location.origin = document.location.protocol + '//' + document.location.hostname + ( document.location.port ? ':' + document.location.port : '' );\n",
       "    }\n",
       "\n",
       "    var newUrl = document.location.origin + path;\n",
       "\n",
       "    _paq.push(['setCustomUrl', newUrl]);\n",
       "  }\n",
       "\n",
       "  var docTitle = document.title;\n",
       "\n",
       "  if (docTitle.match(/Overview \\(free company information from Companies House\\)$/)){\n",
       "     _paq.push(['setDocumentTitle','Overview']);\n",
       "  }\n",
       "  else if (docTitle.match(/Filing history \\(free information from Companies House\\)$/)){\n",
       "     _paq.push(['setDocumentTitle','Filing history']);\n",
       "  }\n",
       "  else if (docTitle.match(/Officers \\(free information from Companies House\\)$/)){\n",
       "     _paq.push(['setDocumentTitle','Officers']);\n",
       "  }\n",
       "  else if (docTitle.match(/Personal Appointments \\(free information from Companies House\\)$/)){\n",
       "     _paq.push(['setDocumentTitle','Personal Appointments']);\n",
       "  }\n",
       "  else if (docTitle.match(/Charges \\(free information from Companies House\\)$/)){\n",
       "     _paq.push(['setDocumentTitle','Charges']);\n",
       "  }\n",
       "  else if (docTitle.match(/Insolvency \\(free information from Companies House\\)$/)){\n",
       "     _paq.push(['setDocumentTitle','Insolvency']);\n",
       "  }\n",
       "  else if (docTitle.match(/Mortgages \\(free information from Companies House\\)$/)){\n",
       "     _paq.push(['setDocumentTitle','Charges ']);\n",
       "  }\n",
       "  else if (docTitle.match(/More \\(free company information from Companies House\\)$/)) {\n",
       "     _paq.push(['setDocumentTitle','More']);\n",
       "  }\n",
       "\n",
       "  _paq.push(['setCustomVariable', 1,'VisitorStatus','NotSignedIn','visit']);\n",
       "  _paq.push(['setCustomVariable', 2,'CompanyStatus','NotAuthorised','visit']);\n",
       "  _paq.push(['setDownloadClasses', \"download\"]);\n",
       "  _paq.push(['trackPageView']);\n",
       "  _paq.push(['enableLinkTracking']);\n",
       "\n",
       "  function startPiwik() {\n",
       "    var u=\"https://piwik.companieshouse.gov.uk/\";\n",
       "    _paq.push(['setTrackerUrl', u+'piwik.php']);\n",
       "    _paq.push(['setSiteId', 2]);\n",
       "    var d=document, g=d.createElement('script'), s=d.getElementsByTagName('script')[0]; g.type='text/javascript';\n",
       "    g.defer=true; g.async=true; g.src=u+'piwik.js'; s.parentNode.insertBefore(g,s);\n",
       "  };\n",
       "\n",
       "  function stopAnalytics() {\n",
       "    var cookies = document.cookie.split(';');\n",
       "    for (var i = 0; i < cookies.length; i++) {\n",
       "     var tempCookie = cookies[i].split('=')[0];\n",
       "     var cookieName = tempCookie.replace(/^\\s+|\\s+$/g, '');\n",
       "     var domainArray = document.domain.split('.');\n",
       "     if (cookieName.match(/_pk_.+/) || cookieName.match(/_ga/) || cookieName.match(/_gid/)) {\n",
       "        document.cookie = cookieName + '=; expires=Thu, 01 Jan 1970 00:00:00 UTC; path=/;';\n",
       "        for (var j = 0; j < domainArray.length; j++) {\n",
       "           var tempDomain = '.' + domainArray.slice(j, domainArray.length).join('.');\n",
       "           document.cookie = cookieName + '=; expires=Thu, 01 Jan 1970 00:00:00 UTC; path=/; domain=' + tempDomain + ';';\n",
       "       }\n",
       "     }\n",
       "    }\n",
       "  };\n",
       "\n",
       "  document.addEventListener('DOMContentLoaded', function () {\n",
       "    document.getElementById('accept-cookies-button').addEventListener('click', function() {CookieConsent.acceptCookies(startPiwik)})\n",
       "    document.getElementById('reject-cookies-button').addEventListener('click', function() {CookieConsent.rejectCookies(stopAnalytics)})\n",
       "    document.getElementById('hide-accepted-message-button').addEventListener('click', CookieConsent.hideCookieBanners)\n",
       "    document.getElementById('hide-rejected-message-button').addEventListener('click', CookieConsent.hideCookieBanners)\n",
       "  });\n",
       "  \n",
       "  CookieConsent.start(startPiwik, stopAnalytics)\n",
       "</script>\n",
       "<noscript><p><img alt=\"\" src=\"https://piwik.companieshouse.gov.uk/piwik.php?idsite=2\" style=\"border:0;\"/></p></noscript>\n",
       "<script>\n",
       "  var _paq = _paq || [];\n",
       "\n",
       "  // Bind piwik event listener to element(s) with an 'id' attribute\n",
       "  // matching each object provided in the 'identifiers' array.\n",
       "  function bindPiwikListener() {\n",
       "    $('.piwik-event').each(function() {\n",
       "      $(this).click(function(){\n",
       "        if($(document).find(\"title\").data(\"id\").toLowerCase() === \"root\") {\n",
       "          _paq.push(['trackEvent', $(this).data('id').toLowerCase(), $(this).data('event-id').toLowerCase()]);\n",
       "        } else {\n",
       "          _paq.push(['trackEvent', $(document).find(\"title\").data(\"id\").toLowerCase(), $(this).data('event-id').toLowerCase()]);\n",
       "        }\n",
       "      });\n",
       "    });\n",
       "  }\n",
       "\n",
       "  $(document).ready(function () {\n",
       "    bindPiwikListener();\n",
       "  });\n",
       "</script>\n",
       "<!-- End Piwik Code -->\n",
       "<script>\n",
       "      document.getElementById(\"feedback-link\").setAttribute(\"href\", \"/help/feedback?sourceurl=\" +  window.location.href);\n",
       "    </script>\n",
       "<!-- End of Companies House Scripts -->\n",
       "</body>\n",
       "</html>"
      ]
     },
     "execution_count": 138,
     "metadata": {},
     "output_type": "execute_result"
    }
   ],
   "source": [
    "urlp = \"https://find-and-update.company-information.service.gov.uk/company/09409467/officers\"\n",
    "rp = requests.get(urlp)\n",
    "soup = BeautifulSoup(rp.text, 'html.parser')\n",
    "soup"
   ]
  },
  {
   "cell_type": "code",
   "execution_count": 140,
   "metadata": {
    "ExecuteTime": {
     "end_time": "2021-03-19T23:10:57.139653Z",
     "start_time": "2021-03-19T23:10:57.101671Z"
    }
   },
   "outputs": [
    {
     "data": {
      "text/plain": [
       "['Secretary', 'Director', 'Director', 'Director']"
      ]
     },
     "execution_count": 140,
     "metadata": {},
     "output_type": "execute_result"
    }
   ],
   "source": [
    "o_role =[]\n",
    "for i in range(1,11):\n",
    "\n",
    "\n",
    "    for appt in soup.find_all('div', attrs = {'class':f'appointment-{i}'}):\n",
    "    \n",
    "        try:\n",
    "            app = appt.find('dd',attrs = { 'id' : f'officer-role-{i}'}).text.strip()        \n",
    "            o_role.append(app)\n",
    "        except:\n",
    "            o_role.append(np.nan)\n",
    "        \n",
    "o_role"
   ]
  },
  {
   "cell_type": "code",
   "execution_count": 142,
   "metadata": {
    "ExecuteTime": {
     "end_time": "2021-03-19T23:13:57.322938Z",
     "start_time": "2021-03-19T23:13:57.211961Z"
    }
   },
   "outputs": [
    {
     "name": "stdout",
     "output_type": "stream",
     "text": [
      "['EUROTAX SECRETARIES LTD', 'HAMPDEN-WHITE, Colin George, Sir', 'MARUSZEWSKI, Krzysztof Tomasz', 'ORR, Christopher Andrew']\n",
      "['Secretary', 'Director', 'Director', 'Director']\n"
     ]
    }
   ],
   "source": [
    "o_name=[]\n",
    "o_role=[]\n",
    "i=1\n",
    "for i in range(1,36):\n",
    "    for appt in soup.find_all('div', attrs = {'class':f'appointment-{i}'}):\n",
    "        if appt.find('span',attrs = { 'id' : f'officer-status-tag-{i}'}).text.strip() != 'Active':\n",
    "            continue\n",
    "        else:\n",
    "            try:\n",
    "                role = appt.find('dd',attrs = { 'id' : f'officer-role-{i}'}).text.strip()        \n",
    "                o_role.append(role)\n",
    "            except:\n",
    "                o_role.append(np.nan)\n",
    "            try:\n",
    "                name = appt.find('a').text.strip()        \n",
    "                o_name.append(name)\n",
    "            except:\n",
    "                o_name.append(np.nan)\n",
    "            i+=1\n",
    "print(o_name)\n",
    "print(o_role)\n",
    "\n"
   ]
  },
  {
   "cell_type": "code",
   "execution_count": 99,
   "metadata": {
    "ExecuteTime": {
     "end_time": "2021-03-19T21:22:22.610716Z",
     "start_time": "2021-03-19T21:22:22.597726Z"
    }
   },
   "outputs": [],
   "source": [
    "plcs1['names']=0\n",
    "plcs1['roles']=0"
   ]
  },
  {
   "cell_type": "code",
   "execution_count": 101,
   "metadata": {
    "ExecuteTime": {
     "end_time": "2021-03-19T21:25:30.834570Z",
     "start_time": "2021-03-19T21:25:30.820579Z"
    }
   },
   "outputs": [
    {
     "data": {
      "text/html": [
       "<div>\n",
       "<style scoped>\n",
       "    .dataframe tbody tr th:only-of-type {\n",
       "        vertical-align: middle;\n",
       "    }\n",
       "\n",
       "    .dataframe tbody tr th {\n",
       "        vertical-align: top;\n",
       "    }\n",
       "\n",
       "    .dataframe thead th {\n",
       "        text-align: right;\n",
       "    }\n",
       "</style>\n",
       "<table border=\"1\" class=\"dataframe\">\n",
       "  <thead>\n",
       "    <tr style=\"text-align: right;\">\n",
       "      <th></th>\n",
       "      <th>CompanyName</th>\n",
       "      <th>CompanyNumber</th>\n",
       "      <th>names</th>\n",
       "      <th>roles</th>\n",
       "    </tr>\n",
       "  </thead>\n",
       "  <tbody>\n",
       "    <tr>\n",
       "      <th>695</th>\n",
       "      <td>00062246 PLC</td>\n",
       "      <td>00062246</td>\n",
       "      <td>0</td>\n",
       "      <td>0</td>\n",
       "    </tr>\n",
       "    <tr>\n",
       "      <th>727</th>\n",
       "      <td>00150042 PLC</td>\n",
       "      <td>00150042</td>\n",
       "      <td>0</td>\n",
       "      <td>0</td>\n",
       "    </tr>\n",
       "    <tr>\n",
       "      <th>785</th>\n",
       "      <td>00358466 PLC</td>\n",
       "      <td>00358466</td>\n",
       "      <td>0</td>\n",
       "      <td>0</td>\n",
       "    </tr>\n",
       "    <tr>\n",
       "      <th>808</th>\n",
       "      <td>00496454 PLC</td>\n",
       "      <td>00496454</td>\n",
       "      <td>0</td>\n",
       "      <td>0</td>\n",
       "    </tr>\n",
       "    <tr>\n",
       "      <th>1093</th>\n",
       "      <td>01745110 PLC</td>\n",
       "      <td>01745110</td>\n",
       "      <td>0</td>\n",
       "      <td>0</td>\n",
       "    </tr>\n",
       "    <tr>\n",
       "      <th>1166</th>\n",
       "      <td>02229539 PLC</td>\n",
       "      <td>02229539</td>\n",
       "      <td>0</td>\n",
       "      <td>0</td>\n",
       "    </tr>\n",
       "    <tr>\n",
       "      <th>5384</th>\n",
       "      <td>1066 THE FILM PLC</td>\n",
       "      <td>06558400</td>\n",
       "      <td>0</td>\n",
       "      <td>0</td>\n",
       "    </tr>\n",
       "    <tr>\n",
       "      <th>5756</th>\n",
       "      <td>10A GROUP PLC</td>\n",
       "      <td>11774850</td>\n",
       "      <td>0</td>\n",
       "      <td>0</td>\n",
       "    </tr>\n",
       "    <tr>\n",
       "      <th>9128</th>\n",
       "      <td>123V PLC</td>\n",
       "      <td>SC178923</td>\n",
       "      <td>0</td>\n",
       "      <td>0</td>\n",
       "    </tr>\n",
       "    <tr>\n",
       "      <th>9377</th>\n",
       "      <td>127 PICCADILLY PLC</td>\n",
       "      <td>02072531</td>\n",
       "      <td>0</td>\n",
       "      <td>0</td>\n",
       "    </tr>\n",
       "  </tbody>\n",
       "</table>\n",
       "</div>"
      ],
      "text/plain": [
       "             CompanyName CompanyNumber  names  roles\n",
       "695         00062246 PLC      00062246      0      0\n",
       "727         00150042 PLC      00150042      0      0\n",
       "785         00358466 PLC      00358466      0      0\n",
       "808         00496454 PLC      00496454      0      0\n",
       "1093        01745110 PLC      01745110      0      0\n",
       "1166        02229539 PLC      02229539      0      0\n",
       "5384   1066 THE FILM PLC      06558400      0      0\n",
       "5756       10A GROUP PLC      11774850      0      0\n",
       "9128            123V PLC      SC178923      0      0\n",
       "9377  127 PICCADILLY PLC      02072531      0      0"
      ]
     },
     "execution_count": 101,
     "metadata": {},
     "output_type": "execute_result"
    }
   ],
   "source": [
    "plcs1.head(10)"
   ]
  },
  {
   "cell_type": "code",
   "execution_count": 152,
   "metadata": {
    "ExecuteTime": {
     "end_time": "2021-03-20T21:43:37.263352Z",
     "start_time": "2021-03-20T20:47:16.794683Z"
    }
   },
   "outputs": [
    {
     "name": "stderr",
     "output_type": "stream",
     "text": [
      "100%|████████████████████████████████████████████████████████████████████████████████| 506/506 [56:20<00:00,  6.68s/it]\n"
     ]
    }
   ],
   "source": [
    "for c in tqdm(range (4712,5218)):\n",
    "    cono = plcs1.iloc[c,1]\n",
    "    urlp = f'https://find-and-update.company-information.service.gov.uk/company/{cono}/officers'\n",
    "    rp = requests.get(urlp)\n",
    "    #print(rp.status_code)\n",
    "    soup = BeautifulSoup(rp.text, 'html.parser')\n",
    "    o_name=[]\n",
    "    o_role=[]\n",
    "    \n",
    "    for i in range(1,36):\n",
    "        for appt in soup.find_all('div', attrs = {'class':f'appointment-{i}'}):\n",
    "            \n",
    "            if appt.find('span',attrs = { 'id' : f'officer-status-tag-{i}'}).text.strip() != 'Active':\n",
    "                continue    \n",
    "            else:\n",
    "                try:\n",
    "                    role = appt.find('dd',attrs = { 'id' : f'officer-role-{i}'}).text.strip()        \n",
    "                    o_role.append(role)\n",
    "                except:\n",
    "                    o_role.append(np.nan)\n",
    "                try:\n",
    "                    name = appt.find('a').text.strip()+':'        \n",
    "                    o_name.append(name)\n",
    "                except:\n",
    "                    o_name.append(np.nan)\n",
    "                i+=1\n",
    "    plcs1.iloc[c,2] = o_name\n",
    "    plcs1.iloc[c,3] = o_role\n",
    "    time.sleep(randint(5,7))"
   ]
  },
  {
   "cell_type": "code",
   "execution_count": 2,
   "metadata": {
    "ExecuteTime": {
     "end_time": "2021-08-19T14:38:15.738424Z",
     "start_time": "2021-08-19T14:38:15.684444Z"
    }
   },
   "outputs": [],
   "source": [
    "plcs1 = pd.read_csv('plcs1.csv')"
   ]
  },
  {
   "cell_type": "code",
   "execution_count": 3,
   "metadata": {
    "ExecuteTime": {
     "end_time": "2021-08-19T14:38:17.717824Z",
     "start_time": "2021-08-19T14:38:17.690840Z"
    }
   },
   "outputs": [],
   "source": [
    "plcs1['names'] = [x.replace(':','') for x in plcs1.names]"
   ]
  },
  {
   "cell_type": "code",
   "execution_count": 4,
   "metadata": {
    "ExecuteTime": {
     "end_time": "2021-08-19T14:38:18.641414Z",
     "start_time": "2021-08-19T14:38:18.602436Z"
    }
   },
   "outputs": [
    {
     "data": {
      "text/html": [
       "<div>\n",
       "<style scoped>\n",
       "    .dataframe tbody tr th:only-of-type {\n",
       "        vertical-align: middle;\n",
       "    }\n",
       "\n",
       "    .dataframe tbody tr th {\n",
       "        vertical-align: top;\n",
       "    }\n",
       "\n",
       "    .dataframe thead th {\n",
       "        text-align: right;\n",
       "    }\n",
       "</style>\n",
       "<table border=\"1\" class=\"dataframe\">\n",
       "  <thead>\n",
       "    <tr style=\"text-align: right;\">\n",
       "      <th></th>\n",
       "      <th>Unnamed: 0</th>\n",
       "      <th>CompanyName</th>\n",
       "      <th>CompanyNumber</th>\n",
       "      <th>names</th>\n",
       "      <th>roles</th>\n",
       "    </tr>\n",
       "  </thead>\n",
       "  <tbody>\n",
       "    <tr>\n",
       "      <th>5213</th>\n",
       "      <td>4618059</td>\n",
       "      <td>ZT INVEST PLC</td>\n",
       "      <td>12090941</td>\n",
       "      <td>['ABEL, Stephen John', 'GUZZO, Andrea', 'MIGAT...</td>\n",
       "      <td>['Secretary', 'Director', 'Director', 'Directo...</td>\n",
       "    </tr>\n",
       "    <tr>\n",
       "      <th>5214</th>\n",
       "      <td>4619033</td>\n",
       "      <td>ZURICH ASSURANCE (2004) PLC</td>\n",
       "      <td>AC001783</td>\n",
       "      <td>[]</td>\n",
       "      <td>[]</td>\n",
       "    </tr>\n",
       "    <tr>\n",
       "      <th>5215</th>\n",
       "      <td>4619045</td>\n",
       "      <td>ZURICH FINANCE (UK) PLC</td>\n",
       "      <td>04463547</td>\n",
       "      <td>['ZURICH CORPORATE SECRETARY (UK) LIMITED', 'C...</td>\n",
       "      <td>['Secretary', 'Director', 'Director', 'Directo...</td>\n",
       "    </tr>\n",
       "    <tr>\n",
       "      <th>5216</th>\n",
       "      <td>4619981</td>\n",
       "      <td>ZYTRONIC PLC</td>\n",
       "      <td>03881244</td>\n",
       "      <td>['SMITH, Claire', 'BUFFHAM, David John', 'CAMB...</td>\n",
       "      <td>['Secretary', 'Director', 'Director', 'Directo...</td>\n",
       "    </tr>\n",
       "    <tr>\n",
       "      <th>5217</th>\n",
       "      <td>4620118</td>\n",
       "      <td>ZZOOMM PLC</td>\n",
       "      <td>11738914</td>\n",
       "      <td>['INCE GD CORPORATE SERVICES LIMITED', 'HARE, ...</td>\n",
       "      <td>['Secretary', 'Director', 'Director']</td>\n",
       "    </tr>\n",
       "  </tbody>\n",
       "</table>\n",
       "</div>"
      ],
      "text/plain": [
       "      Unnamed: 0                  CompanyName CompanyNumber  \\\n",
       "5213     4618059                ZT INVEST PLC      12090941   \n",
       "5214     4619033  ZURICH ASSURANCE (2004) PLC      AC001783   \n",
       "5215     4619045      ZURICH FINANCE (UK) PLC      04463547   \n",
       "5216     4619981                 ZYTRONIC PLC      03881244   \n",
       "5217     4620118                   ZZOOMM PLC      11738914   \n",
       "\n",
       "                                                  names  \\\n",
       "5213  ['ABEL, Stephen John', 'GUZZO, Andrea', 'MIGAT...   \n",
       "5214                                                 []   \n",
       "5215  ['ZURICH CORPORATE SECRETARY (UK) LIMITED', 'C...   \n",
       "5216  ['SMITH, Claire', 'BUFFHAM, David John', 'CAMB...   \n",
       "5217  ['INCE GD CORPORATE SERVICES LIMITED', 'HARE, ...   \n",
       "\n",
       "                                                  roles  \n",
       "5213  ['Secretary', 'Director', 'Director', 'Directo...  \n",
       "5214                                                 []  \n",
       "5215  ['Secretary', 'Director', 'Director', 'Directo...  \n",
       "5216  ['Secretary', 'Director', 'Director', 'Directo...  \n",
       "5217              ['Secretary', 'Director', 'Director']  "
      ]
     },
     "execution_count": 4,
     "metadata": {},
     "output_type": "execute_result"
    }
   ],
   "source": [
    "plcs1.tail()"
   ]
  },
  {
   "cell_type": "code",
   "execution_count": 5,
   "metadata": {
    "ExecuteTime": {
     "end_time": "2021-08-19T14:38:22.830385Z",
     "start_time": "2021-08-19T14:38:22.813373Z"
    }
   },
   "outputs": [
    {
     "data": {
      "text/plain": [
       "'Jonathan'"
      ]
     },
     "execution_count": 5,
     "metadata": {},
     "output_type": "execute_result"
    }
   ],
   "source": [
    "import ast\n",
    "\n",
    "ast.literal_eval(plcs1['names'][23])[0].split(',')[1].split(' ')[1]"
   ]
  },
  {
   "cell_type": "code",
   "execution_count": 6,
   "metadata": {
    "ExecuteTime": {
     "end_time": "2021-08-19T14:38:25.611539Z",
     "start_time": "2021-08-19T14:38:25.427645Z"
    }
   },
   "outputs": [],
   "source": [
    "plcs1['officernos']=0\n",
    "plcs1['officernos'] = [len(ast.literal_eval(x)) for x in plcs1['names']]"
   ]
  },
  {
   "cell_type": "code",
   "execution_count": 7,
   "metadata": {
    "ExecuteTime": {
     "end_time": "2021-08-19T14:38:29.318148Z",
     "start_time": "2021-08-19T14:38:27.068078Z"
    }
   },
   "outputs": [],
   "source": [
    "import gender_guesser.detector as gender\n",
    "from guess_indian_gender import IndianGenderPredictor\n",
    "i = IndianGenderPredictor()\n",
    "d = gender.Detector(case_sensitive=False)\n",
    "def get_genders(x):\n",
    "    gens = []\n",
    "    for j in range(len(ast.literal_eval(x))):\n",
    "        try:\n",
    "            g = d.get_gender(ast.literal_eval(x)[j].split(',')[1].split(' ')[1])\n",
    "            if g == 'unknown':\n",
    "                try:\n",
    "                    g = i.predict(name=ast.literal_eval(x)[j].split(',')[1].split(' ')[1])\n",
    "                except:\n",
    "                    g = 'unknown'\n",
    "            \n",
    "        except:\n",
    "            g = 'unknown'\n",
    "        gens.append(g)\n",
    "    return gens"
   ]
  },
  {
   "cell_type": "code",
   "execution_count": 8,
   "metadata": {
    "ExecuteTime": {
     "end_time": "2021-08-19T14:38:31.181064Z",
     "start_time": "2021-08-19T14:38:29.321128Z"
    }
   },
   "outputs": [],
   "source": [
    "plcs1['genders'] = 0\n",
    "plcs1['genders'] = [get_genders(x) for x in plcs1['names']]"
   ]
  },
  {
   "cell_type": "code",
   "execution_count": 9,
   "metadata": {
    "ExecuteTime": {
     "end_time": "2021-08-19T14:38:33.013290Z",
     "start_time": "2021-08-19T14:38:32.992304Z"
    }
   },
   "outputs": [
    {
     "data": {
      "text/plain": [
       "0                                            [male]\n",
       "1                                                []\n",
       "2                                                []\n",
       "3                        [female, male, male, male]\n",
       "4                        [male, female, male, male]\n",
       "                           ...                     \n",
       "5213               [male, female, male, male, male]\n",
       "5214                                             []\n",
       "5215    [unknown, male, male, female, female, male]\n",
       "5216             [female, male, male, male, female]\n",
       "5217                       [unknown, male, unknown]\n",
       "Name: genders, Length: 5218, dtype: object"
      ]
     },
     "execution_count": 9,
     "metadata": {},
     "output_type": "execute_result"
    }
   ],
   "source": [
    "plcs1.genders"
   ]
  },
  {
   "cell_type": "code",
   "execution_count": 10,
   "metadata": {
    "ExecuteTime": {
     "end_time": "2021-08-19T14:38:38.115425Z",
     "start_time": "2021-08-19T14:38:38.100433Z"
    }
   },
   "outputs": [],
   "source": [
    "plcs1['genders'] = [[y.replace('mostly_','') for y in x] for x in plcs1['genders']]"
   ]
  },
  {
   "cell_type": "code",
   "execution_count": 11,
   "metadata": {
    "ExecuteTime": {
     "end_time": "2021-08-19T14:38:39.080405Z",
     "start_time": "2021-08-19T14:38:39.044424Z"
    }
   },
   "outputs": [],
   "source": [
    "plcs1['genders'] = [[y.replace('andy','unknown') for y in x] for x in plcs1['genders']]"
   ]
  },
  {
   "cell_type": "code",
   "execution_count": 12,
   "metadata": {
    "ExecuteTime": {
     "end_time": "2021-08-19T14:38:40.378187Z",
     "start_time": "2021-08-19T14:38:40.343208Z"
    }
   },
   "outputs": [
    {
     "data": {
      "text/html": [
       "<div>\n",
       "<style scoped>\n",
       "    .dataframe tbody tr th:only-of-type {\n",
       "        vertical-align: middle;\n",
       "    }\n",
       "\n",
       "    .dataframe tbody tr th {\n",
       "        vertical-align: top;\n",
       "    }\n",
       "\n",
       "    .dataframe thead th {\n",
       "        text-align: right;\n",
       "    }\n",
       "</style>\n",
       "<table border=\"1\" class=\"dataframe\">\n",
       "  <thead>\n",
       "    <tr style=\"text-align: right;\">\n",
       "      <th></th>\n",
       "      <th>Unnamed: 0</th>\n",
       "      <th>CompanyName</th>\n",
       "      <th>CompanyNumber</th>\n",
       "      <th>names</th>\n",
       "      <th>roles</th>\n",
       "      <th>officernos</th>\n",
       "      <th>genders</th>\n",
       "    </tr>\n",
       "  </thead>\n",
       "  <tbody>\n",
       "    <tr>\n",
       "      <th>0</th>\n",
       "      <td>695</td>\n",
       "      <td>00062246 PLC</td>\n",
       "      <td>00062246</td>\n",
       "      <td>['STONE, Arthur James']</td>\n",
       "      <td>['Secretary']</td>\n",
       "      <td>1</td>\n",
       "      <td>[male]</td>\n",
       "    </tr>\n",
       "    <tr>\n",
       "      <th>1</th>\n",
       "      <td>727</td>\n",
       "      <td>00150042 PLC</td>\n",
       "      <td>00150042</td>\n",
       "      <td>[]</td>\n",
       "      <td>[]</td>\n",
       "      <td>0</td>\n",
       "      <td>[]</td>\n",
       "    </tr>\n",
       "    <tr>\n",
       "      <th>2</th>\n",
       "      <td>785</td>\n",
       "      <td>00358466 PLC</td>\n",
       "      <td>00358466</td>\n",
       "      <td>[]</td>\n",
       "      <td>[]</td>\n",
       "      <td>0</td>\n",
       "      <td>[]</td>\n",
       "    </tr>\n",
       "    <tr>\n",
       "      <th>3</th>\n",
       "      <td>808</td>\n",
       "      <td>00496454 PLC</td>\n",
       "      <td>00496454</td>\n",
       "      <td>['KNIGHT, Yvonne', 'CORT, Roger', 'FINCH, Kenn...</td>\n",
       "      <td>['Secretary', 'Director', 'Director', 'Director']</td>\n",
       "      <td>4</td>\n",
       "      <td>[female, male, male, male]</td>\n",
       "    </tr>\n",
       "    <tr>\n",
       "      <th>4</th>\n",
       "      <td>1093</td>\n",
       "      <td>01745110 PLC</td>\n",
       "      <td>01745110</td>\n",
       "      <td>['ROBINSON, Harry', 'JOLL, Dorothy Monica', 'J...</td>\n",
       "      <td>['Secretary', 'Director', 'Director', 'Director']</td>\n",
       "      <td>4</td>\n",
       "      <td>[male, female, male, male]</td>\n",
       "    </tr>\n",
       "  </tbody>\n",
       "</table>\n",
       "</div>"
      ],
      "text/plain": [
       "   Unnamed: 0   CompanyName CompanyNumber  \\\n",
       "0         695  00062246 PLC      00062246   \n",
       "1         727  00150042 PLC      00150042   \n",
       "2         785  00358466 PLC      00358466   \n",
       "3         808  00496454 PLC      00496454   \n",
       "4        1093  01745110 PLC      01745110   \n",
       "\n",
       "                                               names  \\\n",
       "0                            ['STONE, Arthur James']   \n",
       "1                                                 []   \n",
       "2                                                 []   \n",
       "3  ['KNIGHT, Yvonne', 'CORT, Roger', 'FINCH, Kenn...   \n",
       "4  ['ROBINSON, Harry', 'JOLL, Dorothy Monica', 'J...   \n",
       "\n",
       "                                               roles  officernos  \\\n",
       "0                                      ['Secretary']           1   \n",
       "1                                                 []           0   \n",
       "2                                                 []           0   \n",
       "3  ['Secretary', 'Director', 'Director', 'Director']           4   \n",
       "4  ['Secretary', 'Director', 'Director', 'Director']           4   \n",
       "\n",
       "                      genders  \n",
       "0                      [male]  \n",
       "1                          []  \n",
       "2                          []  \n",
       "3  [female, male, male, male]  \n",
       "4  [male, female, male, male]  "
      ]
     },
     "execution_count": 12,
     "metadata": {},
     "output_type": "execute_result"
    }
   ],
   "source": [
    "plcs1.head()"
   ]
  },
  {
   "cell_type": "code",
   "execution_count": 13,
   "metadata": {
    "ExecuteTime": {
     "end_time": "2021-08-19T14:38:46.490320Z",
     "start_time": "2021-08-19T14:38:46.477329Z"
    }
   },
   "outputs": [],
   "source": [
    "plcs1['offmales'] = [sum([1 if j == 'male' else 0 for j in k]) for k in plcs1['genders']]"
   ]
  },
  {
   "cell_type": "code",
   "execution_count": 14,
   "metadata": {
    "ExecuteTime": {
     "end_time": "2021-08-19T14:38:47.910154Z",
     "start_time": "2021-08-19T14:38:47.881191Z"
    }
   },
   "outputs": [],
   "source": [
    "plcs1['offfemales'] = [sum([1 if j == 'female' else 0 for j in k]) for k in plcs1['genders']]"
   ]
  },
  {
   "cell_type": "code",
   "execution_count": 15,
   "metadata": {
    "ExecuteTime": {
     "end_time": "2021-08-19T14:38:49.063410Z",
     "start_time": "2021-08-19T14:38:49.036425Z"
    }
   },
   "outputs": [],
   "source": [
    "plcs1['offuk'] = [sum([1 if j == 'unknown' else 0 for j in k]) for k in plcs1['genders']]"
   ]
  },
  {
   "cell_type": "code",
   "execution_count": 16,
   "metadata": {
    "ExecuteTime": {
     "end_time": "2021-08-19T14:38:50.823415Z",
     "start_time": "2021-08-19T14:38:50.806427Z"
    }
   },
   "outputs": [
    {
     "data": {
      "text/html": [
       "<div>\n",
       "<style scoped>\n",
       "    .dataframe tbody tr th:only-of-type {\n",
       "        vertical-align: middle;\n",
       "    }\n",
       "\n",
       "    .dataframe tbody tr th {\n",
       "        vertical-align: top;\n",
       "    }\n",
       "\n",
       "    .dataframe thead th {\n",
       "        text-align: right;\n",
       "    }\n",
       "</style>\n",
       "<table border=\"1\" class=\"dataframe\">\n",
       "  <thead>\n",
       "    <tr style=\"text-align: right;\">\n",
       "      <th></th>\n",
       "      <th>Unnamed: 0</th>\n",
       "      <th>CompanyName</th>\n",
       "      <th>CompanyNumber</th>\n",
       "      <th>names</th>\n",
       "      <th>roles</th>\n",
       "      <th>officernos</th>\n",
       "      <th>genders</th>\n",
       "      <th>offmales</th>\n",
       "      <th>offfemales</th>\n",
       "      <th>offuk</th>\n",
       "    </tr>\n",
       "  </thead>\n",
       "  <tbody>\n",
       "    <tr>\n",
       "      <th>0</th>\n",
       "      <td>695</td>\n",
       "      <td>00062246 PLC</td>\n",
       "      <td>00062246</td>\n",
       "      <td>['STONE, Arthur James']</td>\n",
       "      <td>['Secretary']</td>\n",
       "      <td>1</td>\n",
       "      <td>[male]</td>\n",
       "      <td>1</td>\n",
       "      <td>0</td>\n",
       "      <td>0</td>\n",
       "    </tr>\n",
       "    <tr>\n",
       "      <th>1</th>\n",
       "      <td>727</td>\n",
       "      <td>00150042 PLC</td>\n",
       "      <td>00150042</td>\n",
       "      <td>[]</td>\n",
       "      <td>[]</td>\n",
       "      <td>0</td>\n",
       "      <td>[]</td>\n",
       "      <td>0</td>\n",
       "      <td>0</td>\n",
       "      <td>0</td>\n",
       "    </tr>\n",
       "    <tr>\n",
       "      <th>2</th>\n",
       "      <td>785</td>\n",
       "      <td>00358466 PLC</td>\n",
       "      <td>00358466</td>\n",
       "      <td>[]</td>\n",
       "      <td>[]</td>\n",
       "      <td>0</td>\n",
       "      <td>[]</td>\n",
       "      <td>0</td>\n",
       "      <td>0</td>\n",
       "      <td>0</td>\n",
       "    </tr>\n",
       "    <tr>\n",
       "      <th>3</th>\n",
       "      <td>808</td>\n",
       "      <td>00496454 PLC</td>\n",
       "      <td>00496454</td>\n",
       "      <td>['KNIGHT, Yvonne', 'CORT, Roger', 'FINCH, Kenn...</td>\n",
       "      <td>['Secretary', 'Director', 'Director', 'Director']</td>\n",
       "      <td>4</td>\n",
       "      <td>[female, male, male, male]</td>\n",
       "      <td>3</td>\n",
       "      <td>1</td>\n",
       "      <td>0</td>\n",
       "    </tr>\n",
       "    <tr>\n",
       "      <th>4</th>\n",
       "      <td>1093</td>\n",
       "      <td>01745110 PLC</td>\n",
       "      <td>01745110</td>\n",
       "      <td>['ROBINSON, Harry', 'JOLL, Dorothy Monica', 'J...</td>\n",
       "      <td>['Secretary', 'Director', 'Director', 'Director']</td>\n",
       "      <td>4</td>\n",
       "      <td>[male, female, male, male]</td>\n",
       "      <td>3</td>\n",
       "      <td>1</td>\n",
       "      <td>0</td>\n",
       "    </tr>\n",
       "  </tbody>\n",
       "</table>\n",
       "</div>"
      ],
      "text/plain": [
       "   Unnamed: 0   CompanyName CompanyNumber  \\\n",
       "0         695  00062246 PLC      00062246   \n",
       "1         727  00150042 PLC      00150042   \n",
       "2         785  00358466 PLC      00358466   \n",
       "3         808  00496454 PLC      00496454   \n",
       "4        1093  01745110 PLC      01745110   \n",
       "\n",
       "                                               names  \\\n",
       "0                            ['STONE, Arthur James']   \n",
       "1                                                 []   \n",
       "2                                                 []   \n",
       "3  ['KNIGHT, Yvonne', 'CORT, Roger', 'FINCH, Kenn...   \n",
       "4  ['ROBINSON, Harry', 'JOLL, Dorothy Monica', 'J...   \n",
       "\n",
       "                                               roles  officernos  \\\n",
       "0                                      ['Secretary']           1   \n",
       "1                                                 []           0   \n",
       "2                                                 []           0   \n",
       "3  ['Secretary', 'Director', 'Director', 'Director']           4   \n",
       "4  ['Secretary', 'Director', 'Director', 'Director']           4   \n",
       "\n",
       "                      genders  offmales  offfemales  offuk  \n",
       "0                      [male]         1           0      0  \n",
       "1                          []         0           0      0  \n",
       "2                          []         0           0      0  \n",
       "3  [female, male, male, male]         3           1      0  \n",
       "4  [male, female, male, male]         3           1      0  "
      ]
     },
     "execution_count": 16,
     "metadata": {},
     "output_type": "execute_result"
    }
   ],
   "source": [
    "plcs1.head()"
   ]
  },
  {
   "cell_type": "code",
   "execution_count": 17,
   "metadata": {
    "ExecuteTime": {
     "end_time": "2021-08-19T14:41:43.785195Z",
     "start_time": "2021-08-19T14:41:43.736227Z"
    }
   },
   "outputs": [],
   "source": [
    "plcs2 = plcs1[plcs1['officernos']>1]"
   ]
  },
  {
   "cell_type": "code",
   "execution_count": 38,
   "metadata": {
    "ExecuteTime": {
     "end_time": "2021-08-19T15:13:41.844126Z",
     "start_time": "2021-08-19T15:13:41.836129Z"
    }
   },
   "outputs": [
    {
     "name": "stderr",
     "output_type": "stream",
     "text": [
      "<ipython-input-38-299c65b03006>:1: SettingWithCopyWarning: \n",
      "A value is trying to be set on a copy of a slice from a DataFrame.\n",
      "Try using .loc[row_indexer,col_indexer] = value instead\n",
      "\n",
      "See the caveats in the documentation: https://pandas.pydata.org/pandas-docs/stable/user_guide/indexing.html#returning-a-view-versus-a-copy\n",
      "  plcs2['% female officers'] = (plcs2.offfemales/plcs2.officernos)*100\n"
     ]
    }
   ],
   "source": [
    "plcs2['% female officers'] = (plcs2.offfemales/plcs2.officernos)*100"
   ]
  },
  {
   "cell_type": "code",
   "execution_count": 39,
   "metadata": {
    "ExecuteTime": {
     "end_time": "2021-08-19T15:14:08.164282Z",
     "start_time": "2021-08-19T15:14:07.739085Z"
    }
   },
   "outputs": [
    {
     "data": {
      "image/png": "[encoded data removed]",
      "text/plain": [
       "<Figure size 720x576 with 1 Axes>"
      ]
     },
     "metadata": {
      "needs_background": "light"
     },
     "output_type": "display_data"
    }
   ],
   "source": [
    "plcs2.groupby('officernos')['% female officers'].mean().plot(\n",
    "    kind='bar', color='r',figsize = (10,8))\n",
    "plt.xticks(rotation=45)\n",
    "plt.axhline(y = plcs2['% female officers'].mean(), color = 'r', linestyle = '-', label = 'Overall mean ' + str(round((plcs2['% female officers'].mean()),2))+'%')\n",
    "plt.ylabel('Percentage')\n",
    "plt.legend()\n",
    "plt.title('Percentage of Female Officers in PLCs by Numbers of Officers')\n",
    "plt.show()"
   ]
  },
  {
   "cell_type": "code",
   "execution_count": 40,
   "metadata": {
    "ExecuteTime": {
     "end_time": "2021-08-19T15:17:42.460810Z",
     "start_time": "2021-08-19T15:17:42.439823Z"
    }
   },
   "outputs": [],
   "source": [
    "plcs5 = plcs1[plcs1['officernos']>4]"
   ]
  },
  {
   "cell_type": "code",
   "execution_count": 41,
   "metadata": {
    "ExecuteTime": {
     "end_time": "2021-08-19T15:17:42.538764Z",
     "start_time": "2021-08-19T15:17:42.464809Z"
    }
   },
   "outputs": [
    {
     "name": "stderr",
     "output_type": "stream",
     "text": [
      "<ipython-input-41-5f7a99939fad>:1: SettingWithCopyWarning: \n",
      "A value is trying to be set on a copy of a slice from a DataFrame.\n",
      "Try using .loc[row_indexer,col_indexer] = value instead\n",
      "\n",
      "See the caveats in the documentation: https://pandas.pydata.org/pandas-docs/stable/user_guide/indexing.html#returning-a-view-versus-a-copy\n",
      "  plcs5['offcols'] = [['black' if elem =='unknown' else 'red' if elem == 'male' else 'yellow'  for elem in plcs5.loc[k,'genders']] for k in plcs5.index]\n"
     ]
    }
   ],
   "source": [
    "plcs5['offcols'] = [['black' if elem =='unknown' else 'red' if elem == 'male' else 'yellow'  for elem in plcs5.loc[k,'genders']] for k in plcs5.index]"
   ]
  },
  {
   "cell_type": "code",
   "execution_count": 42,
   "metadata": {
    "ExecuteTime": {
     "end_time": "2021-08-19T15:17:48.198582Z",
     "start_time": "2021-08-19T15:17:48.179588Z"
    }
   },
   "outputs": [
    {
     "name": "stderr",
     "output_type": "stream",
     "text": [
      "<ipython-input-42-c761b07a9e47>:1: SettingWithCopyWarning: \n",
      "A value is trying to be set on a copy of a slice from a DataFrame.\n",
      "Try using .loc[row_indexer,col_indexer] = value instead\n",
      "\n",
      "See the caveats in the documentation: https://pandas.pydata.org/pandas-docs/stable/user_guide/indexing.html#returning-a-view-versus-a-copy\n",
      "  plcs5['cocols'] = 'black'\n"
     ]
    }
   ],
   "source": [
    "plcs5['cocols'] = 'black'"
   ]
  },
  {
   "cell_type": "code",
   "execution_count": 43,
   "metadata": {
    "ExecuteTime": {
     "end_time": "2021-08-19T15:17:57.943470Z",
     "start_time": "2021-08-19T15:17:57.788743Z"
    }
   },
   "outputs": [],
   "source": [
    "lines = [plcs5.loc[k,'CompanyName'] + ';' + ';'.join([str(elem) for elem in ast.literal_eval(plcs5.loc[k,'names'])]) for k in plcs5.index]"
   ]
  },
  {
   "cell_type": "code",
   "execution_count": 44,
   "metadata": {
    "ExecuteTime": {
     "end_time": "2021-08-19T15:18:00.252195Z",
     "start_time": "2021-08-19T15:18:00.177646Z"
    }
   },
   "outputs": [],
   "source": [
    "G5 = nx.parse_adjlist(lines, delimiter = ';')"
   ]
  },
  {
   "cell_type": "code",
   "execution_count": 45,
   "metadata": {
    "ExecuteTime": {
     "end_time": "2021-08-19T15:18:02.850112Z",
     "start_time": "2021-08-19T15:18:01.792027Z"
    }
   },
   "outputs": [],
   "source": [
    "for m in plcs5.index:\n",
    "    G5.nodes[plcs5.loc[m,'CompanyName']]['color'] = plcs5.loc[m,'cocols']\n",
    "    for n in range(len(plcs5.loc[m,'genders'])):\n",
    "        G5.nodes[ast.literal_eval(plcs5.loc[m,'names'])[n]]['color'] = plcs5.loc[m,'offcols'][n]    "
   ]
  },
  {
   "cell_type": "code",
   "execution_count": 46,
   "metadata": {
    "ExecuteTime": {
     "end_time": "2021-08-19T15:18:04.633676Z",
     "start_time": "2021-08-19T15:18:04.577709Z"
    }
   },
   "outputs": [],
   "source": [
    "largest_cc = G5.subgraph(max(nx.connected_components(G5),key = len))\n"
   ]
  },
  {
   "cell_type": "code",
   "execution_count": null,
   "metadata": {
    "ExecuteTime": {
     "end_time": "2021-07-01T17:21:46.990006Z",
     "start_time": "2021-07-01T17:15:44.853422Z"
    }
   },
   "outputs": [],
   "source": [
    "plt.figure(figsize=(300, 300))\n",
    "nx.drawing.nx_pylab.draw_spring(largest_cc,with_labels = True, node_color = [x[1] for x in list(largest_cc.nodes('color'))] )\n",
    "plt.show()"
   ]
  },
  {
   "cell_type": "code",
   "execution_count": null,
   "metadata": {
    "ExecuteTime": {
     "end_time": "2021-07-01T16:00:24.848622Z",
     "start_time": "2021-07-01T15:42:11.163668Z"
    }
   },
   "outputs": [],
   "source": [
    "plt.figure(figsize=(300, 300))\n",
    "nx.drawing.nx_pylab.draw_spring(G5,with_labels = True, node_color = [x[1] for x in list(G5.nodes('color'))])\n",
    "plt.show()"
   ]
  },
  {
   "cell_type": "code",
   "execution_count": 47,
   "metadata": {
    "ExecuteTime": {
     "end_time": "2021-08-19T15:22:14.724646Z",
     "start_time": "2021-08-19T15:22:14.351807Z"
    }
   },
   "outputs": [
    {
     "data": {
      "image/png": "[encoded data removed]",
      "text/plain": [
       "<Figure size 432x288 with 1 Axes>"
      ]
     },
     "metadata": {
      "needs_background": "light"
     },
     "output_type": "display_data"
    }
   ],
   "source": [
    "plt.hist(list(dict(largest_cc.degree()).values()),\n",
    "         )\n",
    "plt.yticks()\n",
    "plt.xlabel('Degree')\n",
    "plt.ylabel('Counts')\n",
    "plt.title('Degree distribution')\n",
    "plt.show()"
   ]
  },
  {
   "cell_type": "code",
   "execution_count": 61,
   "metadata": {
    "ExecuteTime": {
     "end_time": "2021-08-19T15:39:14.697390Z",
     "start_time": "2021-08-19T15:39:14.208904Z"
    }
   },
   "outputs": [
    {
     "data": {
      "image/png": "[encoded data removed]",
      "text/plain": [
       "<Figure size 432x288 with 1 Axes>"
      ]
     },
     "metadata": {
      "needs_background": "light"
     },
     "output_type": "display_data"
    }
   ],
   "source": [
    "plt.hist(list(dict(nx.clustering(G5)).values()),\n",
    "          )\n",
    "#plt.yticks([0, 1, 2])\n",
    "plt.xlabel('Coefficients')\n",
    "plt.ylabel('Counts')\n",
    "plt.title('Clustering Coefficient distribution')\n",
    "plt.show()"
   ]
  },
  {
   "cell_type": "code",
   "execution_count": 60,
   "metadata": {
    "ExecuteTime": {
     "end_time": "2021-08-19T15:39:00.802932Z",
     "start_time": "2021-08-19T15:39:00.583161Z"
    }
   },
   "outputs": [
    {
     "data": {
      "text/plain": [
       "4.056349206349206"
      ]
     },
     "execution_count": 60,
     "metadata": {},
     "output_type": "execute_result"
    }
   ],
   "source": [
    "sum(list(dict(nx.clustering(G5)).values()))"
   ]
  },
  {
   "cell_type": "code",
   "execution_count": 77,
   "metadata": {
    "ExecuteTime": {
     "end_time": "2021-08-19T16:18:23.480899Z",
     "start_time": "2021-08-19T16:18:23.462909Z"
    }
   },
   "outputs": [
    {
     "data": {
      "text/plain": [
       "Index(['123V PLC', 'TASKER, Ann', 'ANDERSON, Pamela',\n",
       "       'DRYSDALE, Robert Stewart', 'FREEMAN, David John', 'FREEMAN, Jean Ann',\n",
       "       'MARLIN, Alexandra Jayne', 'MARLIN, Robin Arthur',\n",
       "       'MARLIN, Samuel Arthur', 'MARLIN, Soffia',\n",
       "       ...\n",
       "       'CARL, Christian Henning Peter', 'HESKETH, Mark',\n",
       "       'PICKFORD, Helen Alison', 'SULLIVAN, Maura', 'VINCENT, Matthew James',\n",
       "       'ZYTRONIC PLC', 'SMITH, Claire', 'BUFFHAM, David John',\n",
       "       'CAMBRIDGE, Mark', 'SMITH, Claire Louise'],\n",
       "      dtype='object', length=16038)"
      ]
     },
     "execution_count": 77,
     "metadata": {},
     "output_type": "execute_result"
    }
   ],
   "source": [
    "Degrees5.index"
   ]
  },
  {
   "cell_type": "code",
   "execution_count": 110,
   "metadata": {
    "ExecuteTime": {
     "end_time": "2021-08-19T17:10:25.836779Z",
     "start_time": "2021-08-19T17:10:25.787807Z"
    }
   },
   "outputs": [],
   "source": [
    "Degrees5 = pd.DataFrame.from_dict(dict(nx.degree(G5)),orient='index', columns=['degree'])\n",
    "Degrees5 = Degrees5.reset_index()"
   ]
  },
  {
   "cell_type": "code",
   "execution_count": 111,
   "metadata": {
    "ExecuteTime": {
     "end_time": "2021-08-19T17:10:26.753735Z",
     "start_time": "2021-08-19T17:10:26.729744Z"
    }
   },
   "outputs": [
    {
     "data": {
      "text/html": [
       "<div>\n",
       "<style scoped>\n",
       "    .dataframe tbody tr th:only-of-type {\n",
       "        vertical-align: middle;\n",
       "    }\n",
       "\n",
       "    .dataframe tbody tr th {\n",
       "        vertical-align: top;\n",
       "    }\n",
       "\n",
       "    .dataframe thead th {\n",
       "        text-align: right;\n",
       "    }\n",
       "</style>\n",
       "<table border=\"1\" class=\"dataframe\">\n",
       "  <thead>\n",
       "    <tr style=\"text-align: right;\">\n",
       "      <th></th>\n",
       "      <th>index</th>\n",
       "      <th>degree</th>\n",
       "    </tr>\n",
       "  </thead>\n",
       "  <tbody>\n",
       "    <tr>\n",
       "      <th>0</th>\n",
       "      <td>123V PLC</td>\n",
       "      <td>9</td>\n",
       "    </tr>\n",
       "    <tr>\n",
       "      <th>1</th>\n",
       "      <td>TASKER, Ann</td>\n",
       "      <td>1</td>\n",
       "    </tr>\n",
       "    <tr>\n",
       "      <th>2</th>\n",
       "      <td>ANDERSON, Pamela</td>\n",
       "      <td>1</td>\n",
       "    </tr>\n",
       "    <tr>\n",
       "      <th>3</th>\n",
       "      <td>DRYSDALE, Robert Stewart</td>\n",
       "      <td>1</td>\n",
       "    </tr>\n",
       "    <tr>\n",
       "      <th>4</th>\n",
       "      <td>FREEMAN, David John</td>\n",
       "      <td>1</td>\n",
       "    </tr>\n",
       "    <tr>\n",
       "      <th>...</th>\n",
       "      <td>...</td>\n",
       "      <td>...</td>\n",
       "    </tr>\n",
       "    <tr>\n",
       "      <th>16033</th>\n",
       "      <td>ZYTRONIC PLC</td>\n",
       "      <td>5</td>\n",
       "    </tr>\n",
       "    <tr>\n",
       "      <th>16034</th>\n",
       "      <td>SMITH, Claire</td>\n",
       "      <td>1</td>\n",
       "    </tr>\n",
       "    <tr>\n",
       "      <th>16035</th>\n",
       "      <td>BUFFHAM, David John</td>\n",
       "      <td>1</td>\n",
       "    </tr>\n",
       "    <tr>\n",
       "      <th>16036</th>\n",
       "      <td>CAMBRIDGE, Mark</td>\n",
       "      <td>1</td>\n",
       "    </tr>\n",
       "    <tr>\n",
       "      <th>16037</th>\n",
       "      <td>SMITH, Claire Louise</td>\n",
       "      <td>1</td>\n",
       "    </tr>\n",
       "  </tbody>\n",
       "</table>\n",
       "<p>16038 rows × 2 columns</p>\n",
       "</div>"
      ],
      "text/plain": [
       "                          index  degree\n",
       "0                      123V PLC       9\n",
       "1                   TASKER, Ann       1\n",
       "2              ANDERSON, Pamela       1\n",
       "3      DRYSDALE, Robert Stewart       1\n",
       "4           FREEMAN, David John       1\n",
       "...                         ...     ...\n",
       "16033              ZYTRONIC PLC       5\n",
       "16034             SMITH, Claire       1\n",
       "16035       BUFFHAM, David John       1\n",
       "16036           CAMBRIDGE, Mark       1\n",
       "16037      SMITH, Claire Louise       1\n",
       "\n",
       "[16038 rows x 2 columns]"
      ]
     },
     "execution_count": 111,
     "metadata": {},
     "output_type": "execute_result"
    }
   ],
   "source": [
    "Degrees5"
   ]
  },
  {
   "cell_type": "code",
   "execution_count": 115,
   "metadata": {
    "ExecuteTime": {
     "end_time": "2021-08-19T17:12:05.083498Z",
     "start_time": "2021-08-19T17:12:05.042524Z"
    }
   },
   "outputs": [],
   "source": [
    "Deg5 = Degrees5[(Degrees5['degree'] > 1) & (~Degrees5['index'].str.contains(\"PLC\")) & (~Degrees5['index'].str.contains(\"P.L.C.\")) & (~Degrees5['index'].str.contains(\"Limited\")) ]"
   ]
  },
  {
   "cell_type": "code",
   "execution_count": 124,
   "metadata": {
    "ExecuteTime": {
     "end_time": "2021-08-19T17:18:52.098433Z",
     "start_time": "2021-08-19T17:18:52.091439Z"
    }
   },
   "outputs": [],
   "source": [
    "Deg5a = Degrees5[(Degrees5['degree'] > 1) & (Degrees5['index'].str not in plcs5.CompanyName)  ]"
   ]
  },
  {
   "cell_type": "code",
   "execution_count": 125,
   "metadata": {
    "ExecuteTime": {
     "end_time": "2021-08-19T17:19:07.177677Z",
     "start_time": "2021-08-19T17:19:07.146696Z"
    }
   },
   "outputs": [
    {
     "data": {
      "text/html": [
       "<div>\n",
       "<style scoped>\n",
       "    .dataframe tbody tr th:only-of-type {\n",
       "        vertical-align: middle;\n",
       "    }\n",
       "\n",
       "    .dataframe tbody tr th {\n",
       "        vertical-align: top;\n",
       "    }\n",
       "\n",
       "    .dataframe thead th {\n",
       "        text-align: right;\n",
       "    }\n",
       "</style>\n",
       "<table border=\"1\" class=\"dataframe\">\n",
       "  <thead>\n",
       "    <tr style=\"text-align: right;\">\n",
       "      <th></th>\n",
       "      <th>index</th>\n",
       "      <th>degree</th>\n",
       "    </tr>\n",
       "  </thead>\n",
       "  <tbody>\n",
       "    <tr>\n",
       "      <th>0</th>\n",
       "      <td>123V PLC</td>\n",
       "      <td>9</td>\n",
       "    </tr>\n",
       "    <tr>\n",
       "      <th>10</th>\n",
       "      <td>1SPATIAL PLC</td>\n",
       "      <td>6</td>\n",
       "    </tr>\n",
       "    <tr>\n",
       "      <th>16</th>\n",
       "      <td>SMALL, Francis David</td>\n",
       "      <td>2</td>\n",
       "    </tr>\n",
       "    <tr>\n",
       "      <th>17</th>\n",
       "      <td>3I GROUP PLC</td>\n",
       "      <td>9</td>\n",
       "    </tr>\n",
       "    <tr>\n",
       "      <th>18</th>\n",
       "      <td>DUNN, Kevin John</td>\n",
       "      <td>4</td>\n",
       "    </tr>\n",
       "    <tr>\n",
       "      <th>...</th>\n",
       "      <td>...</td>\n",
       "      <td>...</td>\n",
       "    </tr>\n",
       "    <tr>\n",
       "      <th>16007</th>\n",
       "      <td>ZOO DIGITAL GROUP PLC</td>\n",
       "      <td>6</td>\n",
       "    </tr>\n",
       "    <tr>\n",
       "      <th>16013</th>\n",
       "      <td>ZOTEFOAMS PLC</td>\n",
       "      <td>8</td>\n",
       "    </tr>\n",
       "    <tr>\n",
       "      <th>16020</th>\n",
       "      <td>ZT INVEST PLC</td>\n",
       "      <td>5</td>\n",
       "    </tr>\n",
       "    <tr>\n",
       "      <th>16026</th>\n",
       "      <td>ZURICH FINANCE (UK) PLC</td>\n",
       "      <td>6</td>\n",
       "    </tr>\n",
       "    <tr>\n",
       "      <th>16033</th>\n",
       "      <td>ZYTRONIC PLC</td>\n",
       "      <td>5</td>\n",
       "    </tr>\n",
       "  </tbody>\n",
       "</table>\n",
       "<p>4331 rows × 2 columns</p>\n",
       "</div>"
      ],
      "text/plain": [
       "                         index  degree\n",
       "0                     123V PLC       9\n",
       "10                1SPATIAL PLC       6\n",
       "16        SMALL, Francis David       2\n",
       "17                3I GROUP PLC       9\n",
       "18            DUNN, Kevin John       4\n",
       "...                        ...     ...\n",
       "16007    ZOO DIGITAL GROUP PLC       6\n",
       "16013            ZOTEFOAMS PLC       8\n",
       "16020            ZT INVEST PLC       5\n",
       "16026  ZURICH FINANCE (UK) PLC       6\n",
       "16033             ZYTRONIC PLC       5\n",
       "\n",
       "[4331 rows x 2 columns]"
      ]
     },
     "execution_count": 125,
     "metadata": {},
     "output_type": "execute_result"
    }
   ],
   "source": [
    "Deg5a\n"
   ]
  },
  {
   "cell_type": "code",
   "execution_count": 116,
   "metadata": {
    "ExecuteTime": {
     "end_time": "2021-08-19T17:12:09.489521Z",
     "start_time": "2021-08-19T17:12:09.473534Z"
    }
   },
   "outputs": [],
   "source": [
    "Deg5 = Deg5.sort_values(by = 'degree', ascending=False)"
   ]
  },
  {
   "cell_type": "code",
   "execution_count": 117,
   "metadata": {
    "ExecuteTime": {
     "end_time": "2021-08-19T17:12:13.922962Z",
     "start_time": "2021-08-19T17:12:12.671679Z"
    }
   },
   "outputs": [
    {
     "data": {
      "image/png": "[encoded data removed]",
      "text/plain": [
       "<Figure size 1440x1440 with 1 Axes>"
      ]
     },
     "metadata": {
      "needs_background": "light"
     },
     "output_type": "display_data"
    }
   ],
   "source": [
    "plt.figure(figsize = (20,20))\n",
    "plt.bar(Deg5['index'][:50], Deg5.degree[:50])\n",
    "plt.xticks(rotation = 45)\n",
    "plt.show();"
   ]
  },
  {
   "cell_type": "code",
   "execution_count": null,
   "metadata": {},
   "outputs": [],
   "source": []
  },
  {
   "cell_type": "code",
   "execution_count": null,
   "metadata": {},
   "outputs": [],
   "source": []
  },
  {
   "cell_type": "code",
   "execution_count": null,
   "metadata": {},
   "outputs": [],
   "source": []
  },
  {
   "cell_type": "code",
   "execution_count": 19,
   "metadata": {
    "ExecuteTime": {
     "end_time": "2021-03-19T09:46:41.027517Z",
     "start_time": "2021-03-19T09:46:34.769947Z"
    }
   },
   "outputs": [
    {
     "data": {
      "text/html": [
       "<div>\n",
       "<style scoped>\n",
       "    .dataframe tbody tr th:only-of-type {\n",
       "        vertical-align: middle;\n",
       "    }\n",
       "\n",
       "    .dataframe tbody tr th {\n",
       "        vertical-align: top;\n",
       "    }\n",
       "\n",
       "    .dataframe thead th {\n",
       "        text-align: right;\n",
       "    }\n",
       "</style>\n",
       "<table border=\"1\" class=\"dataframe\">\n",
       "  <thead>\n",
       "    <tr style=\"text-align: right;\">\n",
       "      <th></th>\n",
       "      <th>Unnamed: 0</th>\n",
       "      <th>CompanyName</th>\n",
       "      <th>CompanyNumber</th>\n",
       "    </tr>\n",
       "  </thead>\n",
       "  <tbody>\n",
       "    <tr>\n",
       "      <th>0</th>\n",
       "      <td>0</td>\n",
       "      <td>! LIMITED</td>\n",
       "      <td>12778855</td>\n",
       "    </tr>\n",
       "    <tr>\n",
       "      <th>1</th>\n",
       "      <td>1</td>\n",
       "      <td>! LTD</td>\n",
       "      <td>08209948</td>\n",
       "    </tr>\n",
       "    <tr>\n",
       "      <th>2</th>\n",
       "      <td>2</td>\n",
       "      <td>!? LTD</td>\n",
       "      <td>11399177</td>\n",
       "    </tr>\n",
       "    <tr>\n",
       "      <th>3</th>\n",
       "      <td>3</td>\n",
       "      <td>!BIG IMPACT GRAPHICS LIMITED</td>\n",
       "      <td>11743365</td>\n",
       "    </tr>\n",
       "    <tr>\n",
       "      <th>4</th>\n",
       "      <td>4</td>\n",
       "      <td>!L PRODUCTIONS LIMITED</td>\n",
       "      <td>12402527</td>\n",
       "    </tr>\n",
       "  </tbody>\n",
       "</table>\n",
       "</div>"
      ],
      "text/plain": [
       "   Unnamed: 0                   CompanyName  CompanyNumber\n",
       "0           0                     ! LIMITED       12778855\n",
       "1           1                         ! LTD       08209948\n",
       "2           2                        !? LTD       11399177\n",
       "3           3  !BIG IMPACT GRAPHICS LIMITED       11743365\n",
       "4           4        !L PRODUCTIONS LIMITED       12402527"
      ]
     },
     "execution_count": 19,
     "metadata": {},
     "output_type": "execute_result"
    }
   ],
   "source": [
    "comps = pd.read_csv('companies1.csv')\n",
    "comps.head()"
   ]
  },
  {
   "cell_type": "code",
   "execution_count": null,
   "metadata": {},
   "outputs": [],
   "source": [
    "plcslist = [1 if 'PLC' in x else 1 if 'P.L.C.' in x else 0 for x in comps.CompanyName]"
   ]
  },
  {
   "cell_type": "code",
   "execution_count": null,
   "metadata": {},
   "outputs": [],
   "source": [
    "sum(plcslist)"
   ]
  },
  {
   "cell_type": "code",
   "execution_count": 30,
   "metadata": {
    "ExecuteTime": {
     "end_time": "2021-03-19T11:00:48.612836Z",
     "start_time": "2021-03-19T11:00:47.389897Z"
    }
   },
   "outputs": [],
   "source": [
    "comps['plcs'] = plcslist"
   ]
  },
  {
   "cell_type": "code",
   "execution_count": 31,
   "metadata": {
    "ExecuteTime": {
     "end_time": "2021-03-19T11:00:51.609838Z",
     "start_time": "2021-03-19T11:00:51.555874Z"
    }
   },
   "outputs": [
    {
     "data": {
      "text/html": [
       "<div>\n",
       "<style scoped>\n",
       "    .dataframe tbody tr th:only-of-type {\n",
       "        vertical-align: middle;\n",
       "    }\n",
       "\n",
       "    .dataframe tbody tr th {\n",
       "        vertical-align: top;\n",
       "    }\n",
       "\n",
       "    .dataframe thead th {\n",
       "        text-align: right;\n",
       "    }\n",
       "</style>\n",
       "<table border=\"1\" class=\"dataframe\">\n",
       "  <thead>\n",
       "    <tr style=\"text-align: right;\">\n",
       "      <th></th>\n",
       "      <th>Unnamed: 0</th>\n",
       "      <th>CompanyName</th>\n",
       "      <th>CompanyNumber</th>\n",
       "      <th>plcs</th>\n",
       "    </tr>\n",
       "  </thead>\n",
       "  <tbody>\n",
       "    <tr>\n",
       "      <th>0</th>\n",
       "      <td>0</td>\n",
       "      <td>! LIMITED</td>\n",
       "      <td>12778855</td>\n",
       "      <td>0</td>\n",
       "    </tr>\n",
       "    <tr>\n",
       "      <th>1</th>\n",
       "      <td>1</td>\n",
       "      <td>! LTD</td>\n",
       "      <td>08209948</td>\n",
       "      <td>0</td>\n",
       "    </tr>\n",
       "    <tr>\n",
       "      <th>2</th>\n",
       "      <td>2</td>\n",
       "      <td>!? LTD</td>\n",
       "      <td>11399177</td>\n",
       "      <td>0</td>\n",
       "    </tr>\n",
       "    <tr>\n",
       "      <th>3</th>\n",
       "      <td>3</td>\n",
       "      <td>!BIG IMPACT GRAPHICS LIMITED</td>\n",
       "      <td>11743365</td>\n",
       "      <td>0</td>\n",
       "    </tr>\n",
       "    <tr>\n",
       "      <th>4</th>\n",
       "      <td>4</td>\n",
       "      <td>!L PRODUCTIONS LIMITED</td>\n",
       "      <td>12402527</td>\n",
       "      <td>0</td>\n",
       "    </tr>\n",
       "  </tbody>\n",
       "</table>\n",
       "</div>"
      ],
      "text/plain": [
       "   Unnamed: 0                   CompanyName  CompanyNumber  plcs\n",
       "0           0                     ! LIMITED       12778855     0\n",
       "1           1                         ! LTD       08209948     0\n",
       "2           2                        !? LTD       11399177     0\n",
       "3           3  !BIG IMPACT GRAPHICS LIMITED       11743365     0\n",
       "4           4        !L PRODUCTIONS LIMITED       12402527     0"
      ]
     },
     "execution_count": 31,
     "metadata": {},
     "output_type": "execute_result"
    }
   ],
   "source": [
    "comps.head()"
   ]
  },
  {
   "cell_type": "code",
   "execution_count": 37,
   "metadata": {
    "ExecuteTime": {
     "end_time": "2021-03-19T11:05:47.434489Z",
     "start_time": "2021-03-19T11:05:47.394513Z"
    }
   },
   "outputs": [
    {
     "name": "stdout",
     "output_type": "stream",
     "text": [
      "<class 'pandas.core.frame.DataFrame'>\n",
      "Int64Index: 5218 entries, 695 to 4620118\n",
      "Data columns (total 2 columns):\n",
      " #   Column         Non-Null Count  Dtype \n",
      "---  ------         --------------  ----- \n",
      " 0   CompanyName    5218 non-null   object\n",
      " 1   CompanyNumber  5218 non-null   object\n",
      "dtypes: object(2)\n",
      "memory usage: 122.3+ KB\n"
     ]
    }
   ],
   "source": [
    "plcs = comps[comps['plcs'] == 1]\n",
    "plcs1 = plcs.drop(columns = ['Unnamed: 0', 'plcs'])\n",
    "plcs1 = plcs1.rename(columns = {' CompanyNumber': 'CompanyNumber'})\n",
    "plcs1.info()"
   ]
  },
  {
   "cell_type": "code",
   "execution_count": null,
   "metadata": {},
   "outputs": [],
   "source": [
    "plcs1.to_csv('plcs1.csv')"
   ]
  },
  {
   "cell_type": "code",
   "execution_count": null,
   "metadata": {},
   "outputs": [],
   "source": []
  }
 ],
 "metadata": {
  "kernelspec": {
   "display_name": "Python 3",
   "language": "python",
   "name": "python3"
  },
  "language_info": {
   "codemirror_mode": {
    "name": "ipython",
    "version": 3
   },
   "file_extension": ".py",
   "mimetype": "text/x-python",
   "name": "python",
   "nbconvert_exporter": "python",
   "pygments_lexer": "ipython3",
   "version": "3.8.5"
  },
  "toc": {
   "base_numbering": 1,
   "nav_menu": {},
   "number_sections": true,
   "sideBar": true,
   "skip_h1_title": false,
   "title_cell": "Table of Contents",
   "title_sidebar": "Contents",
   "toc_cell": false,
   "toc_position": {},
   "toc_section_display": true,
   "toc_window_display": false
  }
 },
 "nbformat": 4,
 "nbformat_minor": 4
}
